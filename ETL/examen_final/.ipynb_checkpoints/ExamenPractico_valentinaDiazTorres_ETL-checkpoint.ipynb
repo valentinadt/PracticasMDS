{
 "cells": [
  {
   "cell_type": "markdown",
   "metadata": {},
   "source": [
    "## Examen  práctico 2020-2021\n",
    "\n",
    "__ETL, MDS__\n",
    "\n",
    "__Valentina Díaz Torres__\n"
   ]
  },
  {
   "cell_type": "markdown",
   "metadata": {},
   "source": [
    "<p style='text-align: justify;'>El negocio inmobiliario es uno de los motores de la economía de España, el carácter turístico de nuesta península hace que sean muchos los inversores extranjeros que se decidan por buscar una inversión de bajo riesgos en nuestras ciudades costeras o grandes urbes. \n",
    "Muchas de estas inversiones se hacen sobre grandes bolsas de inmuebles que deben ser analizados previamente para comprobar la rentabilidad del porfolio.</p>\n",
    "\n",
    "<p style='text-align: justify;'>En este caso, vamos a trabajar con una tabla que contienen información de distintos inmuebles repartidos por una zona específica, sus carácterísticas y su precio.</p>\n",
    "\n"
   ]
  },
  {
   "cell_type": "markdown",
   "metadata": {},
   "source": [
    "|NOMBRE VARIABLE|DESCRIPTOR|VALORES|\n",
    "| --- | --- | --- |\n",
    "|Order|Variable de identificación|1 a 2930|\n",
    "|MS Zoning|Zona de ubicación de la vivienda|\"A rural, C comercial, FV residencial flotante, I industrial, RH residencial alta densidad, RL residencial baja densidad, RM residencial media densidad\"|\n",
    "|Lot Frontage|Longitud de la fachada en pies||\n",
    "|Lot Area|Superficie de la vivienda en pies cuadrados||\n",
    "|Land Contour|Contorno del terreno circundante|\"Lvl llano, Bnk Tipo bancal, HLS Ladera, Low Depresión\"|\n",
    "|Land Slope|Tipo de pendiente de la vivienda|\" Gtl pendiente suave, Mod pendiente moderada, Sev fuerte pendiente\"|\n",
    "|Overall Qual|Grado de calidad de materiales y acabado de la vivienda|De 1 (Muy pobre) a 10 (Excelente)|\n",
    "|Year Built|Año de construccion de la vivienda||\n",
    "|Year Remod/Add|Año de última reforma de la vivienda||\n",
    "|Mas Vnr Type|Tipo de revestimiento exterior|\" BrkCmn Ladrillo normal, BrkFace Ladrillo visto, CBlock Bloque de cemento, None Ninguna, Stone Piedra \"|\n",
    "|Exter Qual|Calidad de revestimiento exterior|\"Ex Excelente,Gd Bueno,TA Media,Fa Justo\"|\n",
    "|Bsmt Cond|Estado general del sótano|\"Ex Excelente, Gd Bueno, TA Media, Fa Justo, Po Pobre,Ss sin sótano\"|\n",
    "|Total Bsmt SF|Superficie del sótano en pies cuadrados|\n",
    "|Heating QC|Calidad de la calefacción|\"Ex Excelente,Gd Bueno,TA Media,Fa Justo,Po Pobre\"|\n",
    "|Central Air|Aire acondicionado centralizado|\"N No Y Sí\"|\n",
    "|Full Bath|Número de baños completo en planta||\n",
    "|Half Bath|Número de aseos en planta||\n",
    "|Bedroom AbvGr|Número de dormitorios en planta||\n",
    "|Kitchen AbvGr|Número de cocinas en planta||\n",
    "|Kitchen Qual|Calidad de cocinas|\"Ex Excelente,Gd Bueno,TA Media,Fa Justo,Po Pobre\"|\n",
    "|TotRms AbvGrd|Número total de habitaciones excluidos los cuartos de baño||\n",
    "|Garage Cars|Número de plazas de garaje||\n",
    "|Garage Area|Superficie del garaje|||\n",
    "|Garage Cond|Estado del garaje|\"Ex Excelente,Gd Bueno,TA Media,Fa Justo,Po Pobre,Sg sin garaje\"|\n",
    "|Pool Area|Superficie de la piscina en pies cuadrados|\n",
    "|Pool QC|Calidad de la piscina|\"Ex Excelente,Gd Bueno,TA Media,Fa Justo,Sp no hay piscina\"|\n",
    "|Mo Sold|mes de venta||\n",
    "|Yr Sold|año de venta||\n",
    "|SalePrice|precio de venta en dólares||"
   ]
  },
  {
   "cell_type": "markdown",
   "metadata": {},
   "source": [
    "### Carga del contexto Spark"
   ]
  },
  {
   "cell_type": "code",
   "execution_count": 1,
   "metadata": {
    "collapsed": false
   },
   "outputs": [],
   "source": [
    "# Librerias e inicializacion y carga del contexto spark\n",
    "\n",
    "import re\n",
    "from pyspark.sql import functions as f\n",
    "from pyspark.sql import Row\n",
    "import numpy as np\n",
    "import pandas as pd\n",
    "from pyspark import SparkContext\n",
    "pd.options.display.max_columns = None \n",
    "pd.options.display.max_rows = None \n",
    "from pyspark.sql import SQLContext\n",
    "sc= SparkContext()\n",
    "sqlContext = SQLContext(sc)\n",
    "from pyspark.sql import *\n",
    "from pyspark.sql import SQLContext, functions as F, Row\n",
    "from pyspark.sql.types import *\n",
    "from pyspark.sql.types import StringType, IntegerType\n",
    "import findspark\n",
    "findspark.init()\n",
    "import pyspark \n",
    "from pyspark.context import SparkContext\n",
    "from pyspark.sql.session import SparkSession\n",
    "from pyspark.sql.functions import col\n",
    "sc = SparkContext.getOrCreate()\n",
    "spark = SparkSession.builder.appName(\"Test\").getOrCreate()\n",
    "from pyspark.sql.functions import desc\n",
    "from pyspark.sql.functions import col\n",
    "pd.set_option('max_columns',None) #para que no me corte columnas ni filas\n",
    "pd.set_option('max_rows',None)\n",
    "from pyspark.sql.functions import upper, col\n",
    "from pyspark.sql.functions import isnan, when, count"
   ]
  },
  {
   "cell_type": "markdown",
   "metadata": {},
   "source": [
    "### Carga de datos y parseado"
   ]
  },
  {
   "cell_type": "markdown",
   "metadata": {},
   "source": [
    "En primer lugar, se cargan los dos archivos proporcionados, en formato excel y en csv. No obstante, se va a trabajar con el archivo en formato csv."
   ]
  },
  {
   "cell_type": "code",
   "execution_count": 55,
   "metadata": {
    "collapsed": false
   },
   "outputs": [],
   "source": [
    "#carga del archivo excel \n",
    "pdf = pd.read_excel('BDpracticafinal2021.xlsx')\n",
    "df_e = spark.createDataFrame(pdf.astype(str))"
   ]
  },
  {
   "cell_type": "code",
   "execution_count": 3,
   "metadata": {
    "collapsed": false
   },
   "outputs": [],
   "source": [
    "#carga del archivo csv\n",
    "df = spark.read.format('csv').option('header',True).option('multiLine', True).option(\"sep\", \";\").load('BDpracticafinalCSV.csv')"
   ]
  },
  {
   "cell_type": "markdown",
   "metadata": {},
   "source": [
    "__Exploración de los datos__"
   ]
  },
  {
   "cell_type": "code",
   "execution_count": 4,
   "metadata": {
    "collapsed": false
   },
   "outputs": [
    {
     "data": {
      "text/plain": [
       "['Order',\n",
       " 'MS Zoning',\n",
       " 'Lot Frontage',\n",
       " 'Lot Area',\n",
       " 'Land Contour',\n",
       " 'Land Slope',\n",
       " 'Overall Qual',\n",
       " 'Year Built',\n",
       " 'Year Remod/Add',\n",
       " 'Mas Vnr Type',\n",
       " 'Exter Qual',\n",
       " 'Bsmt Cond',\n",
       " 'Total Bsmt SF',\n",
       " 'Heating QC',\n",
       " 'Central Air',\n",
       " 'Full Bath',\n",
       " 'Half Bath',\n",
       " 'Bedroom AbvGr',\n",
       " 'Kitchen AbvGr',\n",
       " 'Kitchen Qual',\n",
       " 'TotRms AbvGrd',\n",
       " 'Garage Cars',\n",
       " 'Garage Area',\n",
       " 'Garage Cond',\n",
       " 'Pool Area',\n",
       " 'Pool QC',\n",
       " 'Mo Sold',\n",
       " 'Yr Sold',\n",
       " 'SalePrice']"
      ]
     },
     "execution_count": 4,
     "metadata": {},
     "output_type": "execute_result"
    }
   ],
   "source": [
    "df.columns"
   ]
  },
  {
   "cell_type": "markdown",
   "metadata": {},
   "source": [
    "<p style='text-align: justify;'>\n",
    "\n",
    "Tras observar el formato en el que se encuentran las columnas, se ha visto necesario unir las palabras, formando una sola. Esto se ha hecho mediante una fución que sustituye el espacio entre palabra y palabra por un guión bajo (\"_\").\n",
    "</p>"
   ]
  },
  {
   "cell_type": "code",
   "execution_count": 4,
   "metadata": {
    "collapsed": false
   },
   "outputs": [],
   "source": [
    "etiqueta = df.columns #almacenar todas las columnas dentro del objeto etiqueta\n",
    "#A continuación, se crea una función para que sustituya por _ los espacios entre las palabras, a lo largo de todas las columans\n",
    "def sepGuiones(columnas):\n",
    "    for i in range(len(etiqueta)):\n",
    "        columnas[i] = str(etiqueta[i].replace(\" \",\"_\"))#se pasa a string porque la función replace lo necesita\n",
    "    return columnas"
   ]
  },
  {
   "cell_type": "code",
   "execution_count": 5,
   "metadata": {
    "collapsed": false
   },
   "outputs": [],
   "source": [
    "cadena = sepGuiones(etiqueta) #se aplica la función que se ha definido antes a las columnas y se le pone el nombre de cadena\n",
    "#un bucle para renombrar todas las columnas \n",
    "for i in range(len(df.columns)):\n",
    "    df = df.withColumnRenamed(df.columns[i] , cadena[i])\n"
   ]
  },
  {
   "cell_type": "markdown",
   "metadata": {},
   "source": [
    "<p style='text-align: justify;'>Tras ello, se explorarn otros aspectos tales como el tipo de cada columna o el número de columnas y filas que tiene el dataset.</p>"
   ]
  },
  {
   "cell_type": "code",
   "execution_count": 7,
   "metadata": {
    "collapsed": false
   },
   "outputs": [
    {
     "data": {
      "text/plain": [
       "[('Order', 'string'),\n",
       " ('MS_Zoning', 'string'),\n",
       " ('Lot_Frontage', 'string'),\n",
       " ('Lot_Area', 'string'),\n",
       " ('Land_Contour', 'string'),\n",
       " ('Land_Slope', 'string'),\n",
       " ('Overall_Qual', 'string'),\n",
       " ('Year_Built', 'string'),\n",
       " ('Year_Remod/Add', 'string'),\n",
       " ('Mas_Vnr_Type', 'string'),\n",
       " ('Exter_Qual', 'string'),\n",
       " ('Bsmt_Cond', 'string'),\n",
       " ('Total_Bsmt_SF', 'string'),\n",
       " ('Heating_QC', 'string'),\n",
       " ('Central_Air', 'string'),\n",
       " ('Full_Bath', 'string'),\n",
       " ('Half_Bath', 'string'),\n",
       " ('Bedroom_AbvGr', 'string'),\n",
       " ('Kitchen_AbvGr', 'string'),\n",
       " ('Kitchen_Qual', 'string'),\n",
       " ('TotRms_AbvGrd', 'string'),\n",
       " ('Garage_Cars', 'string'),\n",
       " ('Garage_Area', 'string'),\n",
       " ('Garage_Cond', 'string'),\n",
       " ('Pool_Area', 'string'),\n",
       " ('Pool_QC', 'string'),\n",
       " ('Mo_Sold', 'string'),\n",
       " ('Yr_Sold', 'string'),\n",
       " ('SalePrice', 'string')]"
      ]
     },
     "execution_count": 7,
     "metadata": {},
     "output_type": "execute_result"
    }
   ],
   "source": [
    "df.dtypes #tipo de cada variable"
   ]
  },
  {
   "cell_type": "markdown",
   "metadata": {
    "collapsed": false,
    "scrolled": true
   },
   "source": [
    "<p style='text-align: justify;'>Todas las variables son de tipo string, por lo que, una vez que se han leído todas las consultas que se van a tener que realizar, se decide pasar dos de las variables a tipo double.</p>"
   ]
  },
  {
   "cell_type": "code",
   "execution_count": 6,
   "metadata": {
    "collapsed": false
   },
   "outputs": [],
   "source": [
    "#cambiar el tipo de las columnas que me hacen falta\n",
    "df = df.withColumn(\"SalePrice\",df[\"SalePrice\"].cast(DoubleType()))"
   ]
  },
  {
   "cell_type": "code",
   "execution_count": 7,
   "metadata": {
    "collapsed": false
   },
   "outputs": [],
   "source": [
    "#cambiar el tipo de las columnas que me hacen falta\n",
    "df = df.withColumn(\"Total_Bsmt_SF\",df[\"Total_Bsmt_SF\"].cast(DoubleType()))"
   ]
  },
  {
   "cell_type": "code",
   "execution_count": 8,
   "metadata": {
    "collapsed": false
   },
   "outputs": [
    {
     "data": {
      "text/plain": [
       "29"
      ]
     },
     "execution_count": 8,
     "metadata": {},
     "output_type": "execute_result"
    }
   ],
   "source": [
    "len(df.columns) #numero de columnas : 29"
   ]
  },
  {
   "cell_type": "code",
   "execution_count": 9,
   "metadata": {
    "collapsed": false
   },
   "outputs": [
    {
     "data": {
      "text/plain": [
       "2936"
      ]
     },
     "execution_count": 9,
     "metadata": {},
     "output_type": "execute_result"
    }
   ],
   "source": [
    "df.count() #numero de filas: 2936"
   ]
  },
  {
   "cell_type": "markdown",
   "metadata": {},
   "source": [
    "<p style='text-align: justify;'>\n",
    "Además, teniendo en cuenta que interesa solo trabajar con las zonas de RH residencial alta densidad, RL residencial baja densidad y RM residencial media densidad, en primer lugar, se observan qué zonas se encuentran en el dataset y luego se filtra, para trabajar solo con las tres que interesa.</p>\n",
    "<p style='text-align: justify;'>\n",
    "Es necesario resaltar también, que en la zona RL, existían algunos valores que se detectaban como distintas categorías, porque no estaban escritos de una forma homogénea, como la mayoría (RL), sino que tenían alguna de sus letras en minúsculas. Este problema se ha resuelto transformando todas las categorías a mayúscula, por lo que se han detectado como una sola, RL.</p>"
   ]
  },
  {
   "cell_type": "code",
   "execution_count": 12,
   "metadata": {
    "collapsed": false
   },
   "outputs": [
    {
     "name": "stdout",
     "output_type": "stream",
     "text": [
      "+---------+-----+\n",
      "|MS_Zoning|count|\n",
      "+---------+-----+\n",
      "|       RH|   27|\n",
      "|       FV|  139|\n",
      "|        C|   25|\n",
      "|        A|    2|\n",
      "|       RL| 2279|\n",
      "|        I|    2|\n",
      "|       RM|  462|\n",
      "+---------+-----+\n",
      "\n"
     ]
    }
   ],
   "source": [
    "#cambio a mayúscula\n",
    "df = df.withColumn(\"MS_Zoning\",F.upper(F.col(\"MS_Zoning\")))\n",
    "#comprobación\n",
    "df.groupby(\"MS_Zoning\").count().show()"
   ]
  },
  {
   "cell_type": "code",
   "execution_count": 13,
   "metadata": {
    "collapsed": false
   },
   "outputs": [],
   "source": [
    "#Hacer el filtro por las tres categorías\n",
    "df = df.filter((df[\"MS_Zoning\"] == \"RL\") | (df[\"MS_Zoning\"] == \"RM\") | (df[\"MS_Zoning\"] == \"RH\"))"
   ]
  },
  {
   "cell_type": "markdown",
   "metadata": {},
   "source": [
    "__Tratamiento de valores nulos__"
   ]
  },
  {
   "cell_type": "markdown",
   "metadata": {},
   "source": [
    "<p style='text-align: justify;'>Respecto a los valores nulos, estos son detectado mediante una función que recorre todas las columnas, buscando posibles valores nulos y muestra una lista con el total de nulos por variable.</p>"
   ]
  },
  {
   "cell_type": "code",
   "execution_count": 14,
   "metadata": {
    "collapsed": true
   },
   "outputs": [],
   "source": [
    "#detección de nulos\n",
    "etiqueta = df.columns\n",
    "def muestra():\n",
    "    for i in range(len(df.columns)):\n",
    "        print(etiqueta[i] + \": \",df.filter(df[etiqueta[i]].isNull()).count())   "
   ]
  },
  {
   "cell_type": "code",
   "execution_count": 15,
   "metadata": {
    "collapsed": false
   },
   "outputs": [
    {
     "name": "stdout",
     "output_type": "stream",
     "text": [
      "Order:  0\n",
      "MS_Zoning:  0\n",
      "Lot_Frontage:  469\n",
      "Lot_Area:  0\n",
      "Land_Contour:  0\n",
      "Land_Slope:  0\n",
      "Overall_Qual:  0\n",
      "Year_Built:  0\n",
      "Year_Remod/Add:  0\n",
      "Mas_Vnr_Type:  16\n",
      "Exter_Qual:  0\n",
      "Bsmt_Cond:  0\n",
      "Total_Bsmt_SF:  0\n",
      "Heating_QC:  0\n",
      "Central_Air:  0\n",
      "Full_Bath:  0\n",
      "Half_Bath:  0\n",
      "Bedroom_AbvGr:  0\n",
      "Kitchen_AbvGr:  0\n",
      "Kitchen_Qual:  0\n",
      "TotRms_AbvGrd:  0\n",
      "Garage_Cars:  1\n",
      "Garage_Area:  1\n",
      "Garage_Cond:  2\n",
      "Pool_Area:  0\n",
      "Pool_QC:  0\n",
      "Mo_Sold:  0\n",
      "Yr_Sold:  0\n",
      "SalePrice:  0\n"
     ]
    }
   ],
   "source": [
    "muestra()#observar que valores son nulos"
   ]
  },
  {
   "cell_type": "markdown",
   "metadata": {},
   "source": [
    "<p style='text-align: justify;'>Se han detectado valores nulos en algunas de las variables. En primer lugar, se ha decido que en las columnas Lot Fontage y Mas Vnr Type, que son las que más valores nulos tienen, y por tanto, eliminarlos podría producir una pérdida de información significativa, van a ser sustituidos por 0. En el caso de los valores de las columnas de Garage Cars, Area y Cond, los valores nulos son eliminados, porque son muy pocos.</p>"
   ]
  },
  {
   "cell_type": "code",
   "execution_count": 16,
   "metadata": {
    "collapsed": false
   },
   "outputs": [],
   "source": [
    "#sustituir por 0 los valores nulos de las columnas que mas tienen \n",
    "df =  df.fillna({'Lot_Frontage':'0', 'Mas_Vnr_Type':'0'}) \n",
    "#eliminar los valores nulos de las columnas restantes, ya que son muy pocos\n",
    "df = df.na.drop(subset = [\"Garage_Cars\",\"Garage_Area\", \"Garage_Cond\"])"
   ]
  },
  {
   "cell_type": "code",
   "execution_count": 17,
   "metadata": {
    "collapsed": false
   },
   "outputs": [
    {
     "name": "stdout",
     "output_type": "stream",
     "text": [
      "Order:  0\n",
      "MS_Zoning:  0\n",
      "Lot_Frontage:  0\n",
      "Lot_Area:  0\n",
      "Land_Contour:  0\n",
      "Land_Slope:  0\n",
      "Overall_Qual:  0\n",
      "Year_Built:  0\n",
      "Year_Remod/Add:  0\n",
      "Mas_Vnr_Type:  0\n",
      "Exter_Qual:  0\n",
      "Bsmt_Cond:  0\n",
      "Total_Bsmt_SF:  0\n",
      "Heating_QC:  0\n",
      "Central_Air:  0\n",
      "Full_Bath:  0\n",
      "Half_Bath:  0\n",
      "Bedroom_AbvGr:  0\n",
      "Kitchen_AbvGr:  0\n",
      "Kitchen_Qual:  0\n",
      "TotRms_AbvGrd:  0\n",
      "Garage_Cars:  0\n",
      "Garage_Area:  0\n",
      "Garage_Cond:  0\n",
      "Pool_Area:  0\n",
      "Pool_QC:  0\n",
      "Mo_Sold:  0\n",
      "Yr_Sold:  0\n",
      "SalePrice:  0\n"
     ]
    }
   ],
   "source": [
    "muestra() #comprobar que se han cambiado"
   ]
  },
  {
   "cell_type": "markdown",
   "metadata": {},
   "source": [
    "__Detección de valores duplicados__"
   ]
  },
  {
   "cell_type": "markdown",
   "metadata": {},
   "source": [
    "<p style='text-align: justify;'>Por otro lado, los valores nulos son identificados mediante una función. Pero de momento, estos no son tratados. El tratamiento se realizará en próximas preguntas.</p>"
   ]
  },
  {
   "cell_type": "code",
   "execution_count": 18,
   "metadata": {
    "collapsed": false
   },
   "outputs": [
    {
     "data": {
      "text/plain": [
       "12"
      ]
     },
     "execution_count": 18,
     "metadata": {},
     "output_type": "execute_result"
    }
   ],
   "source": [
    "#comprobar duplicados\n",
    "dup= df.join(\n",
    "    df.groupBy(df.columns).agg((f.count(\"*\")>1).cast(\"int\").alias(\"Duplicate_indicator\")),\n",
    "    on=df.columns,\n",
    "    how=\"inner\"\n",
    ")\n",
    "dup.filter(dup[\"Duplicate_indicator\"] == \"1\").count() # hay 12 valores duplicados"
   ]
  },
  {
   "cell_type": "markdown",
   "metadata": {},
   "source": [
    "### Pregunta 2. ¿Cuántas viviendas distintas encontramos en el dataset? ¿Se repite alguna? ¿Tiene sentido que haya duplicadas? ¿Qué podemos hacer con las duplicadas?"
   ]
  },
  {
   "cell_type": "markdown",
   "metadata": {},
   "source": [
    "<p style='text-align: justify;'>Como ya se comentó anteriormente, los valores duplicados no se trataron con el fin de poder hacerlo en esta pregunta.</p>\n",
    "\n",
    "<p style='text-align: justify;'>En primer lugar, se pretende responder a la primera cuestión, que consiste en conocer el número de viviendas que existe. Para ello, se ha tomado como referente, el ID de cada una de las viviendas, la columna \"Order\", que asigna un número a cada una. </p>\n",
    "\n",
    "<p style='text-align: justify;'>Para conocer cuántas viviendas hay y si se repite alguna, se realiza un conteo de las filas del dataset, una vez que se ha realizado la limpieza. Este valor es de 2766. A continuación, se realiza la función distinct para que cuente cuántas casas, no repetidas, hay, en este caso, aparecen 2760. Esto indicaría que habría 6 valores duplicados, como ya se comprobó antes.</p>"
   ]
  },
  {
   "cell_type": "code",
   "execution_count": 19,
   "metadata": {
    "collapsed": false
   },
   "outputs": [
    {
     "data": {
      "text/plain": [
       "2766"
      ]
     },
     "execution_count": 19,
     "metadata": {},
     "output_type": "execute_result"
    }
   ],
   "source": [
    "df.count()"
   ]
  },
  {
   "cell_type": "code",
   "execution_count": 20,
   "metadata": {
    "collapsed": false
   },
   "outputs": [
    {
     "data": {
      "text/plain": [
       "2760"
      ]
     },
     "execution_count": 20,
     "metadata": {},
     "output_type": "execute_result"
    }
   ],
   "source": [
    "viviendas = df.groupBy(\"Order\").sum().distinct().collect()\n",
    "len(viviendas)"
   ]
  },
  {
   "cell_type": "markdown",
   "metadata": {},
   "source": [
    "<p style='text-align: justify;'>El número de viviendas entonces sería de 2760. Para detectar qué viviendas son las que tienen valores nulos se realiza un filtro, en el que se le pone como condición que tengan una frecuencia superior a 1.</p>"
   ]
  },
  {
   "cell_type": "code",
   "execution_count": 21,
   "metadata": {
    "collapsed": false
   },
   "outputs": [
    {
     "name": "stdout",
     "output_type": "stream",
     "text": [
      "+-----+\n",
      "|Order|\n",
      "+-----+\n",
      "| 2898|\n",
      "| 2930|\n",
      "| 2929|\n",
      "| 2900|\n",
      "| 2899|\n",
      "| 2901|\n",
      "+-----+\n",
      "\n"
     ]
    }
   ],
   "source": [
    "df1=df.groupBy('Order').count().filter(\"count > 1\")\n",
    "df1.drop('count').show()"
   ]
  },
  {
   "cell_type": "markdown",
   "metadata": {},
   "source": [
    "<p style='text-align: justify;'>Los número mostrados, corresponden a las seis casas duplicadas. Respondiendo a la cuestión de si sería lógico o no, se ha considerado que no, ya que debería existir un solo registro por cada casa.</p>\n",
    "\n",
    "<p style='text-align: justify;'>El dataset recoge las características de cada vivienda y por ejemplo, no tendría sentido que una casa estuviese en más de una zona o tuviese dos características diferentes de número de garajes. Por ello, se ha decidido eliminarlos, con el fin de poder realizar una análisis por vivienda sin datos que puedan afectar.</p>"
   ]
  },
  {
   "cell_type": "code",
   "execution_count": 22,
   "metadata": {
    "collapsed": false
   },
   "outputs": [],
   "source": [
    "df = df.dropDuplicates(['Order']) #eliminar duplicados"
   ]
  },
  {
   "cell_type": "markdown",
   "metadata": {},
   "source": [
    "### Pregunta 3.¿Podrías decirme el total de inmuebles y el precio medio de cada zona?"
   ]
  },
  {
   "cell_type": "markdown",
   "metadata": {},
   "source": [
    "<p style='text-align: justify;'>Para responder a esta cuestión, se ha realizado, por un lado, el precio de venta medio por cada zona y por otro, el nuúmero de casas total por cada zona. Luego se ha unido todo en una tabla para mejor visualización.</p>"
   ]
  },
  {
   "cell_type": "code",
   "execution_count": 23,
   "metadata": {
    "collapsed": false
   },
   "outputs": [],
   "source": [
    "media_precio = df.groupBy(\"MS_Zoning\").agg(f.round(f.avg(\"SalePrice\"),2).alias(\"media_precio\"))"
   ]
  },
  {
   "cell_type": "code",
   "execution_count": 24,
   "metadata": {
    "collapsed": true
   },
   "outputs": [],
   "source": [
    "total_Inmueble_msz = df.groupBy(\"MS_Zoning\").agg(f.round(f.count('Order'),2).alias('total_inmuebles'))"
   ]
  },
  {
   "cell_type": "code",
   "execution_count": 25,
   "metadata": {
    "collapsed": false
   },
   "outputs": [
    {
     "name": "stdout",
     "output_type": "stream",
     "text": [
      "+---------+---------------+------------+\n",
      "|MS_Zoning|total_inmuebles|media_precio|\n",
      "+---------+---------------+------------+\n",
      "|       RH|             27|   136419.78|\n",
      "|       RL|           2273|   191283.25|\n",
      "|       RM|            460|   126656.73|\n",
      "+---------+---------------+------------+\n",
      "\n"
     ]
    }
   ],
   "source": [
    "union1 = total_Inmueble_msz.join(media_precio, on=\"MS_Zoning\", how = \"inner\")\n",
    "union1.show()"
   ]
  },
  {
   "cell_type": "markdown",
   "metadata": {},
   "source": [
    "<p style='text-align: justify;'>Los resultados obtenidos muestran que hay un mayor número de viviendas en la zona RL y el menor número se encuentra en la RH, también que los precios medios más altos se encuentran en las viviendas de RL, en la zona con más viviendas.</p>"
   ]
  },
  {
   "cell_type": "markdown",
   "metadata": {},
   "source": [
    "### Pregunta 4. Media de Total Bsmt_SF por cada década de construcción calculada a partir de Year Built."
   ]
  },
  {
   "cell_type": "markdown",
   "metadata": {},
   "source": [
    "<p style='text-align: justify;'>Para llevar a cabo esta consulta, en primer lugar, ha sido necesario crear una columna llamada década, que recoge la década a la que pertenece cada uno de los años de construcción registrados. Una vez que se ha podido hacer uso de esta varaible, se ha calculado la media de la variable Total_Bsmt_SF (Superficie del sótano en pies cuadrados), por década de construcción.</p>"
   ]
  },
  {
   "cell_type": "code",
   "execution_count": 26,
   "metadata": {
    "collapsed": false
   },
   "outputs": [],
   "source": [
    "#crear una columna llamada decada\n",
    "df = df.withColumn(\"decade\", (f.floor(f.col(\"Year_Built\")/10)*10).cast(\"int\"))"
   ]
  },
  {
   "cell_type": "code",
   "execution_count": 27,
   "metadata": {
    "collapsed": false
   },
   "outputs": [
    {
     "name": "stdout",
     "output_type": "stream",
     "text": [
      "+------+-------------+\n",
      "|decade|media_Bsmt_Sf|\n",
      "+------+-------------+\n",
      "|  1870|        761.0|\n",
      "|  1880|        836.0|\n",
      "|  1890|       885.58|\n",
      "|  1900|       720.14|\n",
      "|  1910|       783.85|\n",
      "|  1920|        833.8|\n",
      "|  1930|       769.92|\n",
      "|  1940|       706.93|\n",
      "|  1950|        968.3|\n",
      "|  1960|      1082.67|\n",
      "|  1970|       952.72|\n",
      "|  1980|       1086.0|\n",
      "|  1990|      1138.81|\n",
      "|  2000|      1348.47|\n",
      "|  2010|       1539.0|\n",
      "+------+-------------+\n",
      "\n"
     ]
    }
   ],
   "source": [
    "media_bsmt_sf = df.groupBy(\"decade\").agg(f.round(f.avg(\"Total_Bsmt_SF\"),2).alias(\"media_Bsmt_Sf\"))\n",
    "#ordenar los datos según la década de menor a mayor\n",
    "tabla_ordenada= media_bsmt_sf.orderBy(\"decade\", ascending = True)\n",
    "tabla_ordenada.show()"
   ]
  },
  {
   "cell_type": "markdown",
   "metadata": {},
   "source": [
    "<p style='text-align: justify;'>Los resultados obtenidos indican que las décadas correspondientes a las viviendas más grandes son las de 1960,1980,1990,2000 y 2010.</p>"
   ]
  },
  {
   "cell_type": "markdown",
   "metadata": {},
   "source": [
    "### Pregunta 5.¿Cuál es la decada de construcción con viviendas mejor acondicionadas para el frío (Heating QC)?"
   ]
  },
  {
   "cell_type": "markdown",
   "metadata": {},
   "source": [
    "<p style='text-align: justify;'>Para conocer la década con las viviendas mejor acondicionadas para el frío, primero se realiza filtran aquellas viviendas de la categoría excelente(Ex) de la variable Heatin QC y luego se agrupa por década. Así se obtiene una tabla que compara las décadas, con el número de viviendas que tienen el mejor acondicionamiento.</p>"
   ]
  },
  {
   "cell_type": "code",
   "execution_count": 28,
   "metadata": {
    "collapsed": false
   },
   "outputs": [
    {
     "name": "stdout",
     "output_type": "stream",
     "text": [
      "+------+---+\n",
      "|decade| Ex|\n",
      "+------+---+\n",
      "|  2000|638|\n",
      "|  1990|233|\n",
      "|  1950| 98|\n",
      "|  1960| 88|\n",
      "|  1970| 68|\n",
      "|  1940| 56|\n",
      "|  1920| 50|\n",
      "|  1930| 40|\n",
      "|  1910| 38|\n",
      "|  1980| 28|\n",
      "|  1900| 12|\n",
      "|  1890|  4|\n",
      "|  1880|  2|\n",
      "|  2010|  2|\n",
      "+------+---+\n",
      "\n"
     ]
    }
   ],
   "source": [
    "mejorCondicion_dec = df.filter(df.Heating_QC == \"Ex\").groupBy(\"decade\").pivot(\"Heating_QC\").count()\n",
    "#ordenar de mayor a menor por número de casas con condición excelnte\n",
    "mejorCondicion_ord = mejorCondicion_dec.orderBy(\"Ex\",ascending= False)\n",
    "mejorCondicion_ord.show()"
   ]
  },
  {
   "cell_type": "markdown",
   "metadata": {},
   "source": [
    "<p style='text-align: justify;'>Los resultados obtenidos, aparecen ordenados, mostrando en los primeros valrores de la tabla, aquellas décadas que tienen un mayor número de viviendas con mejor acondicionamiento. Estas son 2000 y 1990. Lo que podría significar que a partir de 1990, las casas empezaron a estar mucho mejor acondicionadas para el frío. En 2000 ya hay una diferencia mucho mayor. </p>"
   ]
  },
  {
   "cell_type": "markdown",
   "metadata": {},
   "source": [
    "### Pregunta 6.¿Cuáles son las 10 viviendas que se vendieron por un precio más elevado por metro cuadrado en el año 2009?"
   ]
  },
  {
   "cell_type": "markdown",
   "metadata": {},
   "source": [
    "<p style='text-align: justify;'>Para dar respuesta a esta cuestión, primero es necesario realizar una transformación de piés a metros cuadrados, para poder hacer la comparación de aquellas viviendas que tienen un valor más elevado por metro cuadrado. Posteriormente, se filtran los datos, para quedarse solo con los del año 2009. Seguidamente, se agrupan por el identificador de la vivienda, para conocer cuáles son estas 10 viviendas y por la columna de metros cuadrados. Por último se muestran también los precios totales de dichas viviendas.</p>"
   ]
  },
  {
   "cell_type": "code",
   "execution_count": 29,
   "metadata": {
    "collapsed": false
   },
   "outputs": [],
   "source": [
    "#pasar  de pies a metros cuadraddos\n",
    "df = df.withColumn(\"Lot_Area_m2\", f.round(df[\"Lot_Area\"]*0.09,2))"
   ]
  },
  {
   "cell_type": "code",
   "execution_count": 30,
   "metadata": {
    "collapsed": false
   },
   "outputs": [
    {
     "name": "stdout",
     "output_type": "stream",
     "text": [
      "+-----+-----------+--------+\n",
      "|Order|Lot_Area_m2|  precio|\n",
      "+-----+-----------+--------+\n",
      "|  433|    1232.37|610000.0|\n",
      "|  434|    1250.19|582933.0|\n",
      "|  424|    1388.79|555000.0|\n",
      "|  457|    1335.24|552000.0|\n",
      "|  367|    1568.07|501837.0|\n",
      "|  423|    1216.62|485000.0|\n",
      "|  514|    1001.52|468000.0|\n",
      "|  422|    1283.13|462000.0|\n",
      "|  432|    1213.02|451950.0|\n",
      "|  449|    1374.66|445000.0|\n",
      "+-----+-----------+--------+\n",
      "only showing top 10 rows\n",
      "\n"
     ]
    }
   ],
   "source": [
    "datos_2009 = df.filter(df[\"Yr_Sold\"] == 2009) \n",
    "precio_m2 = datos_2009.groupBy([\"Order\",\"Lot_Area_m2\"]).agg(f.sum(\"SalePrice\").alias(\"precio\"))\n",
    "#ordenar por precio el resultado me mayor a menor\n",
    "precio_m2.orderBy('precio', ascending= False).show(10)"
   ]
  },
  {
   "cell_type": "markdown",
   "metadata": {},
   "source": [
    "<p style='text-align: justify;'>\n",
    "Las viviendas se muestran ordenadas de mayor a menor precio. Así se obtiene que la que tiene un mayor precio es la número 433. Sabiendo esto, se podrían comprobar sus características en las demás variables.</p>\n"
   ]
  },
  {
   "cell_type": "markdown",
   "metadata": {},
   "source": [
    "### Pregunta 7. Media anual por zonas del precio de venta y metros cuadrados."
   ]
  },
  {
   "cell_type": "markdown",
   "metadata": {},
   "source": [
    "<p style='text-align: justify;'>\n",
    "En esta cuestión se ha realizado una agrupación por año de venta y por zona y luego se ha calculado el precio medio para cada una de las zonas y año y la media de metros cuadrados.</p>"
   ]
  },
  {
   "cell_type": "code",
   "execution_count": 31,
   "metadata": {
    "collapsed": false
   },
   "outputs": [
    {
     "name": "stdout",
     "output_type": "stream",
     "text": [
      "+-------+---------+---------+-------+\n",
      "|Yr_Sold|MS_Zoning|   Precio|     m²|\n",
      "+-------+---------+---------+-------+\n",
      "|   2006|       RL|194350.64|1011.18|\n",
      "|   2010|       RM|119681.71| 567.79|\n",
      "|   2008|       RL|189885.59|1014.92|\n",
      "|   2006|       RM|127502.64| 557.05|\n",
      "|   2009|       RM|118759.87| 535.29|\n",
      "|   2007|       RM|128713.99| 603.68|\n",
      "|   2008|       RH|150333.33|  742.2|\n",
      "|   2007|       RL|193399.98|1026.57|\n",
      "|   2010|       RH| 126280.0|  729.5|\n",
      "|   2008|       RM|133117.57| 603.16|\n",
      "|   2007|       RH| 147250.0| 630.97|\n",
      "|   2010|       RL|184978.42| 979.76|\n",
      "|   2009|       RL|190455.55| 970.87|\n",
      "|   2009|       RH| 116206.8| 626.92|\n",
      "|   2006|       RH|140316.67| 638.96|\n",
      "+-------+---------+---------+-------+\n",
      "\n"
     ]
    }
   ],
   "source": [
    "mediaPrecio_zona_m2 = df.groupBy([\"Yr_Sold\",\"MS_Zoning\"]).agg((f.round(f.avg(\"SalePrice\"),2).alias(\"Precio\")),\n",
    "(f.round(f.avg(\"Lot_Area_m2\"),2).alias(\"m²\")))\n",
    "mediaPrecio_zona_m2.show()"
   ]
  },
  {
   "cell_type": "markdown",
   "metadata": {},
   "source": [
    "### Pregunta 8.¿Podrías decirme el total de recaudación de las casas de revistimiento (Mas Vnr Type) de piedra con respecto a las de ladrillo? ¿Hay diferencia significativa?"
   ]
  },
  {
   "cell_type": "markdown",
   "metadata": {},
   "source": [
    "<p style='text-align: justify;'>Para obtener el total recaudado, es decir, el total de precio de venta, por cada casa, según el tipo de revestimiento, piedra o ladrillo, se ha filtrado y agrupado por cada uno de los tipos de revestimiento que interesaba. No obstante, como existen dos tipos de revestimiento de ladrillo, se ha el total recaudado por la venta de las viviendas de ambos tipos, ya que no quedaba especificado cuál era el revestimiento requerido.</p>"
   ]
  },
  {
   "cell_type": "code",
   "execution_count": 32,
   "metadata": {
    "collapsed": false
   },
   "outputs": [
    {
     "name": "stdout",
     "output_type": "stream",
     "text": [
      "+------------+-----+\n",
      "|Mas_Vnr_Type|count|\n",
      "+------------+-----+\n",
      "|        None| 1641|\n",
      "|      BrkCmn|   25|\n",
      "|           0|   16|\n",
      "|       Stone|  229|\n",
      "|     BrkFace|  848|\n",
      "|      CBlock|    1|\n",
      "+------------+-----+\n",
      "\n"
     ]
    }
   ],
   "source": [
    "#tipos de revestimiento\n",
    "df.groupby(\"Mas_Vnr_Type\").count().show() "
   ]
  },
  {
   "cell_type": "code",
   "execution_count": 33,
   "metadata": {
    "collapsed": false
   },
   "outputs": [
    {
     "name": "stdout",
     "output_type": "stream",
     "text": [
      "+--------------+\n",
      "|Piedra: Precio|\n",
      "+--------------+\n",
      "|         5.2E7|\n",
      "+--------------+\n",
      "\n"
     ]
    }
   ],
   "source": [
    "#recaudación total por las viviendas de revestimiento de piedra\n",
    "recaudacion_piedra = df.filter(df.Mas_Vnr_Type == \"Stone\").groupBy(\"SalePrice\").count()\n",
    "recaudacion_piedra.agg(f.round((f.sum(\"SalePrice\")),-6).alias(\"Piedra: Precio\")).show()"
   ]
  },
  {
   "cell_type": "code",
   "execution_count": 34,
   "metadata": {
    "collapsed": false
   },
   "outputs": [
    {
     "name": "stdout",
     "output_type": "stream",
     "text": [
      "+-----------------------+\n",
      "|Ladrillo Normal: Precio|\n",
      "+-----------------------+\n",
      "|              3504975.0|\n",
      "+-----------------------+\n",
      "\n"
     ]
    }
   ],
   "source": [
    "#recaudación total por las viviendas de revestimiento del primer tipo de ladrillo (Ladrillo normal)\n",
    "recaudacion_ladrillo1 = df.filter(df.Mas_Vnr_Type == \"BrkCmn\").groupBy(\"SalePrice\").count()\n",
    "recaudacion_ladrillo1.agg((f.sum(\"SalePrice\")).alias(\"Ladrillo Normal: Precio\")).show()"
   ]
  },
  {
   "cell_type": "code",
   "execution_count": 35,
   "metadata": {
    "collapsed": false
   },
   "outputs": [
    {
     "name": "stdout",
     "output_type": "stream",
     "text": [
      "+----------------------+\n",
      "|Ladrillo visto: Precio|\n",
      "+----------------------+\n",
      "|                1.06E8|\n",
      "+----------------------+\n",
      "\n"
     ]
    }
   ],
   "source": [
    "#recaudación total por las viviendas de revestimiento del segundo tipo de ladrillo (Ladrillo visto)\n",
    "recaudacion_ladrillo2 = df.filter(df.Mas_Vnr_Type == \"BrkFace\").groupBy(\"SalePrice\").count()\n",
    "recaudacion_ladrillo2.agg(f.round(f.sum(\"SalePrice\"),-6).alias(\"Ladrillo visto: Precio\")).show()"
   ]
  },
  {
   "cell_type": "markdown",
   "metadata": {},
   "source": [
    "Los resultados muestran:\n",
    "\n",
    "* Que el total de recaudación por las casas con revestimiento de piedra ha sido de 51 millones aproximadamente, por la venta de 230 viviendas. \n",
    "\n",
    "* En el caso del revestimiento de ladrillo normal, existen 25 viviendas y se ha recaudado un total de 3504975$.\n",
    "\n",
    "* En el caso del ladrillo visto, se ha obtenido la mayor recaudación, existen 850 viviendas con este revestimiento y se ha obtenido aproximadamente 106 millones de Dólares.\n",
    "\n",
    "Por lo tanto, se podría concluir que el revestimiento de ladrillo visto es el más frecuente, el que se encuentra en el mayor número de viviendas y por eso supone la mayor recaudación del total."
   ]
  },
  {
   "cell_type": "markdown",
   "metadata": {},
   "source": [
    "### Pregunta 9.¿Cuánto son más caras las viviendas con 2 cocinas, con 2 o más plazas de garaje que las que tienen 1 cocina y 1 plaza de garaje? Comparar medias y cuartiles de ambos casos"
   ]
  },
  {
   "cell_type": "markdown",
   "metadata": {},
   "source": [
    "<p style='text-align: justify;'>Este análisis se realiza de forma separada, primero se filtran aquellas casas que tienen 2 cocinas y dos o más plazas de garaje y por otro lado las que tienen una cocina y una sola plaza de garaje. Además, para comparar ambos grupos, se obtienen los principales estadísticos (que se aplican a las únicas variables convertidas a numéricas) y los cuartiles del precio de dichos conjuntos.</p>"
   ]
  },
  {
   "cell_type": "code",
   "execution_count": 36,
   "metadata": {
    "collapsed": false
   },
   "outputs": [
    {
     "name": "stdout",
     "output_type": "stream",
     "text": [
      "+-------------+-----------+---------+\n",
      "|Kitchen_AbvGr|Garage_Cars|   precio|\n",
      "+-------------+-----------+---------+\n",
      "|            2|          3|1387500.0|\n",
      "|            2|          2|9229688.0|\n",
      "|            2|          4|1863500.0|\n",
      "+-------------+-----------+---------+\n",
      "\n"
     ]
    }
   ],
   "source": [
    "#filtrado por la primera condici´´on\n",
    "condicion_1 = df.filter((df[\"Kitchen_AbvGr\"] == 2) & (df[\"Garage_Cars\"] >= 2 ))\n",
    "c1_precio = condicion_1.groupBy([\"Kitchen_AbvGr\",\"Garage_Cars\"]).agg(f.sum(\"SalePrice\").alias(\"precio\"))\n",
    "c1_precio.show()"
   ]
  },
  {
   "cell_type": "code",
   "execution_count": 37,
   "metadata": {
    "collapsed": false
   },
   "outputs": [
    {
     "name": "stdout",
     "output_type": "stream",
     "text": [
      "+-------+------------------+------------------+------------------+\n",
      "|summary|         SalePrice|            decade|       Lot_Area_m2|\n",
      "+-------+------------------+------------------+------------------+\n",
      "|  count|                86|                86|                86|\n",
      "|   mean|145124.27906976745|1955.1162790697674| 890.6222093023257|\n",
      "| stddev| 40555.86827593908|26.334686857339822|333.37986058796315|\n",
      "|    min|           81400.0|              1880|            544.32|\n",
      "|    max|          269500.0|              2000|           2940.12|\n",
      "+-------+------------------+------------------+------------------+\n",
      "\n"
     ]
    }
   ],
   "source": [
    "#principales estadísticos\n",
    "condicion_1.describe().show() "
   ]
  },
  {
   "cell_type": "code",
   "execution_count": 38,
   "metadata": {
    "collapsed": false
   },
   "outputs": [
    {
     "data": {
      "text/plain": [
       "[1863500.0, 9229688.0, 9229688.0]"
      ]
     },
     "execution_count": 38,
     "metadata": {},
     "output_type": "execute_result"
    }
   ],
   "source": [
    "#cuartiles \n",
    "c1_precio.approxQuantile(\"precio\",[0.25, 0.5, 0.75], 0) #el 0 significa error relativo, se usa 0 para tener el\n",
    "#mayor accuracy posible"
   ]
  },
  {
   "cell_type": "code",
   "execution_count": 39,
   "metadata": {
    "collapsed": false
   },
   "outputs": [
    {
     "name": "stdout",
     "output_type": "stream",
     "text": [
      "+-------------+-----------+------+\n",
      "|Kitchen_AbvGr|Garage_Cars|precio|\n",
      "+-------------+-----------+------+\n",
      "|            1|          1| 9.7E7|\n",
      "+-------------+-----------+------+\n",
      "\n"
     ]
    }
   ],
   "source": [
    "#filtrado por la segunda condicion\n",
    "condicion_2 = df.filter((df[\"Kitchen_AbvGr\"] == 1) & (df[\"Garage_Cars\"] == 1 ))\n",
    "c2_precio = condicion_2.groupBy([\"Kitchen_AbvGr\",\"Garage_Cars\"]).agg(f.round(f.sum(\"SalePrice\"),-6).alias(\"precio\"))\n",
    "c2_precio.show()"
   ]
  },
  {
   "cell_type": "code",
   "execution_count": 40,
   "metadata": {
    "collapsed": false
   },
   "outputs": [
    {
     "name": "stdout",
     "output_type": "stream",
     "text": [
      "+-------+------------------+------------------+-----------------+\n",
      "|summary|         SalePrice|            decade|      Lot_Area_m2|\n",
      "+-------+------------------+------------------+-----------------+\n",
      "|  count|               754|               754|              754|\n",
      "|   mean| 128079.7148541114|1945.0928381962865|760.7302519893893|\n",
      "| stddev|30301.638905480977| 19.84145329086487|304.9795976143738|\n",
      "|    min|           35000.0|              1880|           132.93|\n",
      "|    max|          330000.0|              2000|          2492.73|\n",
      "+-------+------------------+------------------+-----------------+\n",
      "\n"
     ]
    }
   ],
   "source": [
    "#principales estadísticos de la segunda condición\n",
    "condicion_2.describe().show() "
   ]
  },
  {
   "cell_type": "code",
   "execution_count": 41,
   "metadata": {
    "collapsed": false
   },
   "outputs": [
    {
     "data": {
      "text/plain": [
       "[97000000.0, 97000000.0, 97000000.0]"
      ]
     },
     "execution_count": 41,
     "metadata": {},
     "output_type": "execute_result"
    }
   ],
   "source": [
    "#cuartiles \n",
    "c2_precio.approxQuantile(\"precio\",[0.25, 0.5, 0.75], 0)"
   ]
  },
  {
   "cell_type": "markdown",
   "metadata": {},
   "source": [
    "<p style='text-align: justify;'>Analizando los resultados obtenidos se puede observar que:</p>\n",
    "\n",
    "<p style='text-align: justify;'>\n",
    "\n",
    "• En el primer grupo hay 86 viviendas con dichas condiciones, que el precio medio es 145124.279, el maximo 269500.0 y la vivienda más barata es de 81400.0, la desviación típica es de 40555.86. Son viviendas con 2 cocinas y 2, 3 o 4 plazas de garaje. Los cuartiles de precio, y por tanto los rangos de precio menor, medio y mayor son: 1863500, 9229688, 9229688 Dólares.\n",
    "</p>\n",
    "<p style='text-align: justify;'>\n",
    "• En el segundo grupo, se puede observar que hay 754 viviendas y por tanto, este tipo de viviendas es el más frecuente. Además, el precio medio es 128079.7148 Dólares, por lo que son más baratas, el máximo 330000 Dólares y la vivienda más barata es de 35000 Dólares. La desviación típica es de 30301.6389, lo que significa que hay menos variación en los precios que en las anteriores. Los cuartiles de precios son: 96572105, 96572105, 96572105 Dólares</p>"
   ]
  },
  {
   "cell_type": "markdown",
   "metadata": {},
   "source": [
    "### Pregunta 10. Estudiar la relación entre el precio y el número de Garajes. "
   ]
  },
  {
   "cell_type": "markdown",
   "metadata": {},
   "source": [
    "<p style='text-align: justify;'>Para estudiar la relación que tienen el precio de venta y el número de garajes de la vivienda, se podrían plantear muchas opciones. En este caso, se han calculado los cuartiles del precio y se ha analizado la relación entre el númeor de garajes y el precio en cada uno de estos cuartiles. También, se ha calculado el precio medio de las viviendas en cada cuartil y el número total de viviendas, para poder hacer posteriores comparaciones.\n",
    "</p>"
   ]
  },
  {
   "cell_type": "code",
   "execution_count": 42,
   "metadata": {
    "collapsed": false
   },
   "outputs": [
    {
     "data": {
      "text/plain": [
       "[129000.0, 159000.0, 212000.0]"
      ]
     },
     "execution_count": 42,
     "metadata": {},
     "output_type": "execute_result"
    }
   ],
   "source": [
    "#precio segmentado por cuartiles\n",
    "df.approxQuantile(\"SalePrice\",[0.25, 0.5, 0.75], 0) "
   ]
  },
  {
   "cell_type": "code",
   "execution_count": 43,
   "metadata": {
    "collapsed": false
   },
   "outputs": [],
   "source": [
    "# Se filtra por rangos de precio, inferior o igual que el primer cuartil, el segundo mayor que ese y el tercero el resto\n",
    "precio_cuartil1 = df.filter(df[\"SalePrice\"] <= 129000.0)\n",
    "precio_cuartil2 = df.filter((df[\"SalePrice\"] > 129000.0) & (df[\"SalePrice\"] <= 159000.0))\n",
    "precio_cuartil3 = df.filter(df[\"SalePrice\"] > 159000.0)"
   ]
  },
  {
   "cell_type": "code",
   "execution_count": 44,
   "metadata": {
    "collapsed": false
   },
   "outputs": [
    {
     "name": "stdout",
     "output_type": "stream",
     "text": [
      "+-----------+------------+---------------+\n",
      "|Garage_Cars|precio medio|nº de viviendas|\n",
      "+-----------+------------+---------------+\n",
      "|          3|   107571.43|              7|\n",
      "|          0|    93004.73|            111|\n",
      "|          5|    126500.0|              1|\n",
      "|          1|   108280.23|            411|\n",
      "|          4|    123000.0|              1|\n",
      "|          2|   110465.89|            170|\n",
      "+-----------+------------+---------------+\n",
      "\n"
     ]
    }
   ],
   "source": [
    "a1 = precio_cuartil1.groupBy(\"Garage_Cars\").agg((f.round(f.avg(\"SalePrice\"),2).alias(\"precio medio\")), (f.count(\"Order\").alias(\"nº de viviendas\")))\n",
    "a1.show()"
   ]
  },
  {
   "cell_type": "code",
   "execution_count": 45,
   "metadata": {
    "collapsed": false
   },
   "outputs": [
    {
     "name": "stdout",
     "output_type": "stream",
     "text": [
      "+-------------------------------------------+\n",
      "|Precio Medio de las Viviendas (1er Cuartil)|\n",
      "+-------------------------------------------+\n",
      "|                                  111470.38|\n",
      "+-------------------------------------------+\n",
      "\n"
     ]
    }
   ],
   "source": [
    "#precio medio de las viviendas del primer cuartil\n",
    "a1.agg(f.round(f.avg(\"precio medio\"),2).alias(\"Precio Medio de las Viviendas (1er Cuartil)\")).show()"
   ]
  },
  {
   "cell_type": "code",
   "execution_count": 46,
   "metadata": {
    "collapsed": false
   },
   "outputs": [
    {
     "name": "stdout",
     "output_type": "stream",
     "text": [
      "+-------------------------------------+\n",
      "|Nº de Viviendas Totales (1er Cuartil)|\n",
      "+-------------------------------------+\n",
      "|                                  701|\n",
      "+-------------------------------------+\n",
      "\n"
     ]
    }
   ],
   "source": [
    "#todas las viviendas que se encuentran en el primer cuartil\n",
    "a1.agg(f.round(f.sum(\"nº de viviendas\"),2).alias(\"Nº de Viviendas Totales (1er Cuartil)\")).show()"
   ]
  },
  {
   "cell_type": "code",
   "execution_count": 47,
   "metadata": {
    "collapsed": false
   },
   "outputs": [
    {
     "name": "stdout",
     "output_type": "stream",
     "text": [
      "+-----------+------------+---------------+\n",
      "|Garage_Cars|precio medio|nº de viviendas|\n",
      "+-----------+------------+---------------+\n",
      "|          3|   146691.67|             12|\n",
      "|          0|    139662.5|             28|\n",
      "|          1|   141356.44|            279|\n",
      "|          4|    134500.0|              2|\n",
      "|          2|   144820.58|            366|\n",
      "+-----------+------------+---------------+\n",
      "\n"
     ]
    }
   ],
   "source": [
    "a2 = precio_cuartil2.groupBy(\"Garage_Cars\").agg((f.round(f.avg(\"SalePrice\"),2).alias(\"precio medio\")), (f.count(\"Order\").alias(\"nº de viviendas\")))\n",
    "a2.show()"
   ]
  },
  {
   "cell_type": "code",
   "execution_count": 48,
   "metadata": {
    "collapsed": false
   },
   "outputs": [
    {
     "name": "stdout",
     "output_type": "stream",
     "text": [
      "+------------------------------------------+\n",
      "|Precio Medio de las Viviendas (2º Cuartil)|\n",
      "+------------------------------------------+\n",
      "|                                 141406.24|\n",
      "+------------------------------------------+\n",
      "\n"
     ]
    }
   ],
   "source": [
    "#precio medio de las viviendas del segundo cuartil\n",
    "a2.agg(f.round(f.avg(\"precio medio\"),2).alias(\"Precio Medio de las Viviendas (2º Cuartil)\")).show()"
   ]
  },
  {
   "cell_type": "code",
   "execution_count": 49,
   "metadata": {
    "collapsed": false
   },
   "outputs": [
    {
     "name": "stdout",
     "output_type": "stream",
     "text": [
      "+------------------------------------+\n",
      "|Nº de Viviendas Totales (2º Cuartil)|\n",
      "+------------------------------------+\n",
      "|                                 687|\n",
      "+------------------------------------+\n",
      "\n"
     ]
    }
   ],
   "source": [
    "#todas las viviendas que se encuentran en el segundo cuartil\n",
    "a2.agg(f.round(f.sum(\"nº de viviendas\"),2).alias(\"Nº de Viviendas Totales (2º Cuartil)\")).show()"
   ]
  },
  {
   "cell_type": "code",
   "execution_count": 50,
   "metadata": {
    "collapsed": false
   },
   "outputs": [
    {
     "name": "stdout",
     "output_type": "stream",
     "text": [
      "+-----------+------------+---------------+\n",
      "|Garage_Cars|precio medio|Nº de viviendas|\n",
      "+-----------+------------+---------------+\n",
      "|          3|    322327.0|            336|\n",
      "|          0|    187300.0|              8|\n",
      "|          1|   187661.42|             73|\n",
      "|          4|    251383.0|             13|\n",
      "|          2|   209101.59|            942|\n",
      "+-----------+------------+---------------+\n",
      "\n"
     ]
    }
   ],
   "source": [
    "a3 = precio_cuartil3.groupBy(\"Garage_Cars\").agg((f.round(f.avg(\"SalePrice\"),2).alias(\"precio medio\")), (f.count(\"Order\").alias(\"Nº de viviendas\")))\n",
    "a3.show()"
   ]
  },
  {
   "cell_type": "code",
   "execution_count": 51,
   "metadata": {
    "collapsed": false
   },
   "outputs": [
    {
     "name": "stdout",
     "output_type": "stream",
     "text": [
      "+-------------------------------------------+\n",
      "|Precio Medio de las Viviendas (3er Cuartil)|\n",
      "+-------------------------------------------+\n",
      "|                                   231554.6|\n",
      "+-------------------------------------------+\n",
      "\n"
     ]
    }
   ],
   "source": [
    "#precio medio de las viviendas del tercer cuartil\n",
    "a3.agg(f.round(f.avg(\"precio medio\"),2).alias(\"Precio Medio de las Viviendas (3er Cuartil)\")).show()"
   ]
  },
  {
   "cell_type": "code",
   "execution_count": 52,
   "metadata": {
    "collapsed": false
   },
   "outputs": [
    {
     "name": "stdout",
     "output_type": "stream",
     "text": [
      "+-----------------------------------------+\n",
      "|Número de viviendas totales (3er Cuartil)|\n",
      "+-----------------------------------------+\n",
      "|                                     1372|\n",
      "+-----------------------------------------+\n",
      "\n"
     ]
    }
   ],
   "source": [
    "#Todas las viviendas que se encuentran en el tercer cuartil\n",
    "a3.agg(f.round(f.sum(\"nº de viviendas\"),2).alias(\"Número de viviendas totales (3er Cuartil)\")).show()"
   ]
  },
  {
   "cell_type": "markdown",
   "metadata": {},
   "source": [
    "El resultado obtenido ha sido:\n",
    "\n",
    "<p style='text-align: justify;'>• En el primer grupo, correspondiente a las viviendas del primer cuartil de precios y por tanto las casas más baratas, se encuentran 701 casas y el precio medio de ellas es de 111470.38. El número de plazas de garaje es de 0 a 5. La mayoría de viviendas tienen 1 o 2 garajes. Solo hay una vivienda con 5 plazas de garaje y el precio medio de este es 126500 dolares. </p>\n",
    "\n",
    "<p style='text-align: justify;'>\n",
    "• En el segundo grupo, se encuentran 687 viviendas y el precio medio de estas es de 141406.24 dolares. Aquí no existen casas con 5 garajes, la mayoría de ellas tienen 1 o dos plazas de garaje también. </p>\n",
    "\n",
    "<p style='text-align: justify;'>\n",
    "• En el tercer cuartil, el de las viviendas más caras, el número de casas es de 1378 y el precio medio de estas es  231467.06 dolares. En este caso, la mayoría de viviendas tienen 2 o tres plazas de garaje, a diferencia de los dos grupos anteriores.</p>\n",
    "<p style='text-align: justify;'>\n",
    "\n",
    "Por lo tanto, por lo general, se puede decir que hay más casas con un precio más elevado, correspondiente al tercer cuartil y que estas, las viviendas más caras, suelen tener entre dos y tres plazas de garajes, mientras que las de precio bajo y medio suelen tener entre una y dos plazas.</p>"
   ]
  },
  {
   "cell_type": "markdown",
   "metadata": {},
   "source": [
    "### Pregunta 11. Las 10 viviendas con mejores servicios y mejor precio."
   ]
  },
  {
   "cell_type": "markdown",
   "metadata": {
    "collapsed": true
   },
   "source": [
    "Para plantear este ejercicio tendríamos dos posibles opciones:\n",
    "\n",
    "<p style='text-align: justify;'>1) Plantear el filtrado a través de la columna Overall_Qual, que como se explica arriba es la que proporciona la información acerca del grado de calidad de materiales y acabado de la vivienda, por lo que se entiende que cuanto mayor sea el nº de esta columna, la calidad general de la vivienda será mejor.</p>\n",
    "\n",
    "<p style='text-align: justify;'>2) Plantear el filtrado con cada una de las columnas que determinan la calidad de la vivienda, es decir:</p>\n",
    "\n",
    "<p style='text-align: justify;'>\n",
    "        •        Exter_Qual, Bsmt_Cond, Kitchen_Qual, Garage_Cond, Pool_QC y Heating_QC.</p>\n",
    "    \n",
    "<p style='text-align: justify;'> Con esta elección, sería necesario interpretar a juicio propio qué formaría una casa con los mejores servicios, ya que por ejemplo, el hecho de tener piscina o no, según para quién, puede ser algo importante a la hora de tener una vivienda completa. De hecho, observando el dataset, se puede comprobar cómo hay un número significante de casas que no cuentan con piscina (2747/2760), por lo que si se hiciese un filtro propio priorizando en aquellas viviendas que la tienen, se obtendrían valores totalmente distintos a los que se podrían conseguir si no se tuviesen las piscinas en cuenta.</p>\n",
    "  \n",
    "<p style='text-align: justify;'>Debido a la ambigüedad que puede generar la elección de la ejecución 2), he optado por realizar la primera de la siguiente manera:  </p>"
   ]
  },
  {
   "cell_type": "code",
   "execution_count": 10,
   "metadata": {
    "collapsed": false
   },
   "outputs": [
    {
     "name": "stdout",
     "output_type": "stream",
     "text": [
      "+------------+-----+---------------+\n",
      "|Overall_Qual|Order|Precio vivienda|\n",
      "+------------+-----+---------------+\n",
      "|          10| 1499|       160000.0|\n",
      "|          10| 2181|       183850.0|\n",
      "|          10| 2182|       184750.0|\n",
      "|          10|  524|       310000.0|\n",
      "|          10| 1321|       325000.0|\n",
      "|          10|  421|       337500.0|\n",
      "|          10| 1178|       345000.0|\n",
      "|          10| 1053|       385000.0|\n",
      "|          10|  448|       386250.0|\n",
      "|          10| 2276|       392000.0|\n",
      "+------------+-----+---------------+\n",
      "\n"
     ]
    }
   ],
   "source": [
    "#Realizo un filtrado de aquellas viviendas que tengan en la columna Overall_Qual el valor igual a 10 (Las mejores)\n",
    "mejoresViviendas = df.filter((df[\"Overall_Qual\"] == 10))\n",
    "\n",
    "#Una vez almacenadas en la variable mejoresViviendas, las agrupo por Overall_Qual y Order, y mediante SalePrice \n",
    "#obtengo el precio de la vivienda según mi agrupación en una nueva columna llamada Precio vivienda\n",
    "mejorV = mejoresViviendas.groupby([\"Overall_Qual\",'Order']).agg(f.sum(\"SalePrice\").alias(\"Precio vivienda\"))\n",
    "\n",
    "#Ordeno descendentemente por la columna Precio vivienda, y así obtengo la vivienda más barata \n",
    "#que posee una media de calidad de componentes excelente.\n",
    "top10viviendas = mejorV.orderBy('Precio vivienda',ascending = True).limit(10)\n",
    "\n",
    "#Muestro el resultado final\n",
    "top10viviendas.show()"
   ]
  },
  {
   "cell_type": "markdown",
   "metadata": {},
   "source": [
    "La tabla anterior muestra las viviendas que tienen una mejor calidad-precio según el grado de calidad del material con el que están hechas. La vivienda 1499 por ejemplo, tiene el mejor precio de todas, teniendo una excelente calidad en la media de sus materiales. \n",
    "\n",
    "Otra opción sería, evaluar las variables una por una. Es decir, si se considera que una vivienda tiene mejor por la piscina, por el acondicionamiento del frío, por la calidad de la cocina o por la del garaje, entre otras. Así, habría que evaluar por separado cada una de ellas y realizar un filtrado para conocer cuáles son estas viviendas. A continuación se han realizado diferentes agrupaciones según las varaibles nombradas anteriormente y se han mostrado en tablas cuáles son estas viviendas. "
   ]
  },
  {
   "cell_type": "code",
   "execution_count": 11,
   "metadata": {
    "collapsed": false
   },
   "outputs": [
    {
     "name": "stdout",
     "output_type": "stream",
     "text": [
      "+-------+-------+\n",
      "|Pool_QC|Calidad|\n",
      "+-------+-------+\n",
      "|     Gd|      4|\n",
      "|     Sp|   2923|\n",
      "|     Ex|      4|\n",
      "|     Fa|      2|\n",
      "|     TA|      3|\n",
      "+-------+-------+\n",
      "\n",
      "+----------+-------+\n",
      "|Exter_Qual|Calidad|\n",
      "+----------+-------+\n",
      "|        Gd|    992|\n",
      "|        Ex|    107|\n",
      "|        Fa|     35|\n",
      "|        TA|   1802|\n",
      "+----------+-------+\n",
      "\n",
      "+----------+-------+\n",
      "|Heating_QC|Calidad|\n",
      "+----------+-------+\n",
      "|        Gd|    477|\n",
      "|        Po|      3|\n",
      "|        Ex|   1500|\n",
      "|        Fa|     92|\n",
      "|        TA|    864|\n",
      "+----------+-------+\n",
      "\n",
      "+------------+-------+\n",
      "|Kitchen_Qual|Calidad|\n",
      "+------------+-------+\n",
      "|          Gd|   1163|\n",
      "|          Po|      1|\n",
      "|          Ex|    205|\n",
      "|          Fa|     70|\n",
      "|          TA|   1497|\n",
      "+------------+-------+\n",
      "\n",
      "+-----------+-------+\n",
      "|Garage_Cond|Calidad|\n",
      "+-----------+-------+\n",
      "|         Gd|     15|\n",
      "|       null|      0|\n",
      "|         Po|     14|\n",
      "|         Sg|    157|\n",
      "|         Ex|      3|\n",
      "|         Fa|     74|\n",
      "|         TA|   2671|\n",
      "+-----------+-------+\n",
      "\n"
     ]
    }
   ],
   "source": [
    "calidad = df.groupBy('Pool_QC').agg(f.count(\"Pool_QC\").alias(\"Calidad\"))\n",
    "calidad1 = df.groupBy('Exter_Qual').agg(f.count(\"Exter_Qual\").alias(\"Calidad\"))\n",
    "calidad2= df.groupBy('Heating_QC').agg(f.count(\"Heating_QC\").alias(\"Calidad\"))\n",
    "calidad3 = df.groupBy('Kitchen_Qual').agg(f.count(\"Kitchen_Qual\").alias(\"Calidad\"))\n",
    "calidad4 = df.groupBy('Garage_Cond').agg(f.count(\"Garage_Cond\").alias(\"Calidad\"))\n",
    "calidad.show()\n",
    "calidad1.show()\n",
    "calidad2.show()\n",
    "calidad3.show()\n",
    "calidad4.show()"
   ]
  },
  {
   "cell_type": "markdown",
   "metadata": {},
   "source": [
    "Sin embargo, se se comprueban cuáles son estas viviendas, y las características que tienen con respecto a otras variables, se observa que si tiene puntuación excelente en una columna, como por ejemplo condición excelente de piscina, no tiene excelencia en todas las demás. Es por eso, que se concluye diciendo que no se puede hacer un filtrado general de las viviendas que contienen excelente en todo, sino que habría que estudiarlo según las preferencias y lo que busca el cliente."
   ]
  },
  {
   "cell_type": "code",
   "execution_count": 12,
   "metadata": {
    "collapsed": false
   },
   "outputs": [
    {
     "data": {
      "text/html": [
       "<div>\n",
       "<table border=\"1\" class=\"dataframe\">\n",
       "  <thead>\n",
       "    <tr style=\"text-align: right;\">\n",
       "      <th></th>\n",
       "      <th>Order</th>\n",
       "      <th>MS_Zoning</th>\n",
       "      <th>Lot_Frontage</th>\n",
       "      <th>Lot_Area</th>\n",
       "      <th>Land_Contour</th>\n",
       "      <th>Land_Slope</th>\n",
       "      <th>Overall_Qual</th>\n",
       "      <th>Year_Built</th>\n",
       "      <th>Year_Remod/Add</th>\n",
       "      <th>Mas_Vnr_Type</th>\n",
       "      <th>Exter_Qual</th>\n",
       "      <th>Bsmt_Cond</th>\n",
       "      <th>Total_Bsmt_SF</th>\n",
       "      <th>Heating_QC</th>\n",
       "      <th>Central_Air</th>\n",
       "      <th>Full_Bath</th>\n",
       "      <th>Half_Bath</th>\n",
       "      <th>Bedroom_AbvGr</th>\n",
       "      <th>Kitchen_AbvGr</th>\n",
       "      <th>Kitchen_Qual</th>\n",
       "      <th>TotRms_AbvGrd</th>\n",
       "      <th>Garage_Cars</th>\n",
       "      <th>Garage_Area</th>\n",
       "      <th>Garage_Cond</th>\n",
       "      <th>Pool_Area</th>\n",
       "      <th>Pool_QC</th>\n",
       "      <th>Mo_Sold</th>\n",
       "      <th>Yr_Sold</th>\n",
       "      <th>SalePrice</th>\n",
       "    </tr>\n",
       "  </thead>\n",
       "  <tbody>\n",
       "    <tr>\n",
       "      <th>0</th>\n",
       "      <td>1064</td>\n",
       "      <td>RL</td>\n",
       "      <td>106</td>\n",
       "      <td>12720</td>\n",
       "      <td>HLS</td>\n",
       "      <td>Mod</td>\n",
       "      <td>10</td>\n",
       "      <td>2003</td>\n",
       "      <td>2003</td>\n",
       "      <td>Stone</td>\n",
       "      <td>Ex</td>\n",
       "      <td>TA</td>\n",
       "      <td>2535.0</td>\n",
       "      <td>Ex</td>\n",
       "      <td>Y</td>\n",
       "      <td>1</td>\n",
       "      <td>1</td>\n",
       "      <td>1</td>\n",
       "      <td>1</td>\n",
       "      <td>Ex</td>\n",
       "      <td>7</td>\n",
       "      <td>3</td>\n",
       "      <td>789</td>\n",
       "      <td>TA</td>\n",
       "      <td>144</td>\n",
       "      <td>Ex</td>\n",
       "      <td>2</td>\n",
       "      <td>2008</td>\n",
       "      <td>615000.0</td>\n",
       "    </tr>\n",
       "    <tr>\n",
       "      <th>1</th>\n",
       "      <td>1761</td>\n",
       "      <td>RL</td>\n",
       "      <td>160</td>\n",
       "      <td>15623</td>\n",
       "      <td>Lvl</td>\n",
       "      <td>Gtl</td>\n",
       "      <td>10</td>\n",
       "      <td>1996</td>\n",
       "      <td>1996</td>\n",
       "      <td>None</td>\n",
       "      <td>Gd</td>\n",
       "      <td>TA</td>\n",
       "      <td>2396.0</td>\n",
       "      <td>Ex</td>\n",
       "      <td>Y</td>\n",
       "      <td>3</td>\n",
       "      <td>1</td>\n",
       "      <td>4</td>\n",
       "      <td>1</td>\n",
       "      <td>Ex</td>\n",
       "      <td>10</td>\n",
       "      <td>3</td>\n",
       "      <td>813</td>\n",
       "      <td>TA</td>\n",
       "      <td>555</td>\n",
       "      <td>Ex</td>\n",
       "      <td>7</td>\n",
       "      <td>2007</td>\n",
       "      <td>745000.0</td>\n",
       "    </tr>\n",
       "    <tr>\n",
       "      <th>2</th>\n",
       "      <td>2231</td>\n",
       "      <td>RL</td>\n",
       "      <td>70</td>\n",
       "      <td>18044</td>\n",
       "      <td>HLS</td>\n",
       "      <td>Gtl</td>\n",
       "      <td>8</td>\n",
       "      <td>1986</td>\n",
       "      <td>1986</td>\n",
       "      <td>None</td>\n",
       "      <td>Gd</td>\n",
       "      <td>TA</td>\n",
       "      <td>279.0</td>\n",
       "      <td>Gd</td>\n",
       "      <td>Y</td>\n",
       "      <td>2</td>\n",
       "      <td>1</td>\n",
       "      <td>2</td>\n",
       "      <td>1</td>\n",
       "      <td>Gd</td>\n",
       "      <td>6</td>\n",
       "      <td>2</td>\n",
       "      <td>691</td>\n",
       "      <td>Gd</td>\n",
       "      <td>228</td>\n",
       "      <td>Ex</td>\n",
       "      <td>8</td>\n",
       "      <td>2007</td>\n",
       "      <td>315000.0</td>\n",
       "    </tr>\n",
       "    <tr>\n",
       "      <th>3</th>\n",
       "      <td>2571</td>\n",
       "      <td>RL</td>\n",
       "      <td>174</td>\n",
       "      <td>25419</td>\n",
       "      <td>Lvl</td>\n",
       "      <td>Gtl</td>\n",
       "      <td>8</td>\n",
       "      <td>1918</td>\n",
       "      <td>1990</td>\n",
       "      <td>None</td>\n",
       "      <td>Gd</td>\n",
       "      <td>TA</td>\n",
       "      <td>1360.0</td>\n",
       "      <td>Gd</td>\n",
       "      <td>Y</td>\n",
       "      <td>2</td>\n",
       "      <td>0</td>\n",
       "      <td>4</td>\n",
       "      <td>1</td>\n",
       "      <td>Gd</td>\n",
       "      <td>8</td>\n",
       "      <td>2</td>\n",
       "      <td>795</td>\n",
       "      <td>TA</td>\n",
       "      <td>512</td>\n",
       "      <td>Ex</td>\n",
       "      <td>3</td>\n",
       "      <td>2006</td>\n",
       "      <td>235000.0</td>\n",
       "    </tr>\n",
       "  </tbody>\n",
       "</table>\n",
       "</div>"
      ],
      "text/plain": [
       "  Order MS_Zoning Lot_Frontage Lot_Area Land_Contour Land_Slope Overall_Qual  \\\n",
       "0  1064        RL          106    12720          HLS        Mod           10   \n",
       "1  1761        RL          160    15623          Lvl        Gtl           10   \n",
       "2  2231        RL           70    18044          HLS        Gtl            8   \n",
       "3  2571        RL          174    25419          Lvl        Gtl            8   \n",
       "\n",
       "  Year_Built Year_Remod/Add Mas_Vnr_Type Exter_Qual Bsmt_Cond  Total_Bsmt_SF  \\\n",
       "0       2003           2003        Stone         Ex        TA         2535.0   \n",
       "1       1996           1996         None         Gd        TA         2396.0   \n",
       "2       1986           1986         None         Gd        TA          279.0   \n",
       "3       1918           1990         None         Gd        TA         1360.0   \n",
       "\n",
       "  Heating_QC Central_Air Full_Bath Half_Bath Bedroom_AbvGr Kitchen_AbvGr  \\\n",
       "0         Ex           Y         1         1             1             1   \n",
       "1         Ex           Y         3         1             4             1   \n",
       "2         Gd           Y         2         1             2             1   \n",
       "3         Gd           Y         2         0             4             1   \n",
       "\n",
       "  Kitchen_Qual TotRms_AbvGrd Garage_Cars Garage_Area Garage_Cond Pool_Area  \\\n",
       "0           Ex             7           3         789          TA       144   \n",
       "1           Ex            10           3         813          TA       555   \n",
       "2           Gd             6           2         691          Gd       228   \n",
       "3           Gd             8           2         795          TA       512   \n",
       "\n",
       "  Pool_QC Mo_Sold Yr_Sold  SalePrice  \n",
       "0      Ex       2    2008   615000.0  \n",
       "1      Ex       7    2007   745000.0  \n",
       "2      Ex       8    2007   315000.0  \n",
       "3      Ex       3    2006   235000.0  "
      ]
     },
     "execution_count": 12,
     "metadata": {},
     "output_type": "execute_result"
    }
   ],
   "source": [
    "mejorCondicion_dec1 = df.filter(df.Pool_QC == \"Ex\")\n",
    "mejorCondicion_dec1.toPandas().head()"
   ]
  },
  {
   "cell_type": "code",
   "execution_count": 13,
   "metadata": {
    "collapsed": false
   },
   "outputs": [
    {
     "data": {
      "text/html": [
       "<div>\n",
       "<table border=\"1\" class=\"dataframe\">\n",
       "  <thead>\n",
       "    <tr style=\"text-align: right;\">\n",
       "      <th></th>\n",
       "      <th>Order</th>\n",
       "      <th>MS_Zoning</th>\n",
       "      <th>Lot_Frontage</th>\n",
       "      <th>Lot_Area</th>\n",
       "      <th>Land_Contour</th>\n",
       "      <th>Land_Slope</th>\n",
       "      <th>Overall_Qual</th>\n",
       "      <th>Year_Built</th>\n",
       "      <th>Year_Remod/Add</th>\n",
       "      <th>Mas_Vnr_Type</th>\n",
       "      <th>Exter_Qual</th>\n",
       "      <th>Bsmt_Cond</th>\n",
       "      <th>Total_Bsmt_SF</th>\n",
       "      <th>Heating_QC</th>\n",
       "      <th>Central_Air</th>\n",
       "      <th>Full_Bath</th>\n",
       "      <th>Half_Bath</th>\n",
       "      <th>Bedroom_AbvGr</th>\n",
       "      <th>Kitchen_AbvGr</th>\n",
       "      <th>Kitchen_Qual</th>\n",
       "      <th>TotRms_AbvGrd</th>\n",
       "      <th>Garage_Cars</th>\n",
       "      <th>Garage_Area</th>\n",
       "      <th>Garage_Cond</th>\n",
       "      <th>Pool_Area</th>\n",
       "      <th>Pool_QC</th>\n",
       "      <th>Mo_Sold</th>\n",
       "      <th>Yr_Sold</th>\n",
       "      <th>SalePrice</th>\n",
       "    </tr>\n",
       "  </thead>\n",
       "  <tbody>\n",
       "    <tr>\n",
       "      <th>0</th>\n",
       "      <td>1184</td>\n",
       "      <td>RL</td>\n",
       "      <td>103</td>\n",
       "      <td>16280</td>\n",
       "      <td>Lvl</td>\n",
       "      <td>Gtl</td>\n",
       "      <td>8</td>\n",
       "      <td>1976</td>\n",
       "      <td>2007</td>\n",
       "      <td>None</td>\n",
       "      <td>Ex</td>\n",
       "      <td>Ex</td>\n",
       "      <td>1426.0</td>\n",
       "      <td>Ex</td>\n",
       "      <td>Y</td>\n",
       "      <td>3</td>\n",
       "      <td>0</td>\n",
       "      <td>3</td>\n",
       "      <td>1</td>\n",
       "      <td>Ex</td>\n",
       "      <td>6</td>\n",
       "      <td>2</td>\n",
       "      <td>550</td>\n",
       "      <td>TA</td>\n",
       "      <td>0</td>\n",
       "      <td>Sp</td>\n",
       "      <td>5</td>\n",
       "      <td>2008</td>\n",
       "      <td>290000.0</td>\n",
       "    </tr>\n",
       "  </tbody>\n",
       "</table>\n",
       "</div>"
      ],
      "text/plain": [
       "  Order MS_Zoning Lot_Frontage Lot_Area Land_Contour Land_Slope Overall_Qual  \\\n",
       "0  1184        RL          103    16280          Lvl        Gtl            8   \n",
       "\n",
       "  Year_Built Year_Remod/Add Mas_Vnr_Type Exter_Qual Bsmt_Cond  Total_Bsmt_SF  \\\n",
       "0       1976           2007         None         Ex        Ex         1426.0   \n",
       "\n",
       "  Heating_QC Central_Air Full_Bath Half_Bath Bedroom_AbvGr Kitchen_AbvGr  \\\n",
       "0         Ex           Y         3         0             3             1   \n",
       "\n",
       "  Kitchen_Qual TotRms_AbvGrd Garage_Cars Garage_Area Garage_Cond Pool_Area  \\\n",
       "0           Ex             6           2         550          TA         0   \n",
       "\n",
       "  Pool_QC Mo_Sold Yr_Sold  SalePrice  \n",
       "0      Sp       5    2008   290000.0  "
      ]
     },
     "execution_count": 13,
     "metadata": {},
     "output_type": "execute_result"
    }
   ],
   "source": [
    "mejoresViviendas = df.filter((df[\"Exter_Qual\"] == \"Ex\") & (df[\"Bsmt_Cond\"] == \"Ex\") & (df[\"Heating_QC\"] == \"Ex\") & (df[\"Kitchen_Qual\"] == \"Ex\")  & (df[\"Garage_Cond\"] == \"TA\") & (df[\"Pool_QC\"] == \"Sp\"))\n",
    "#mejorV = mejoresViviendas.groupby(['Order']).agg(f.sum(\"SalePrice\").alias(\"precio\"))\n",
    "#mejorV.orderBy('precio',ascending = True).show(10)\n",
    "mejoresViviendas.toPandas().head(15)"
   ]
  }
 ],
 "metadata": {
  "kernelspec": {
   "display_name": "Python 3",
   "language": "python",
   "name": "python3"
  },
  "language_info": {
   "codemirror_mode": {
    "name": "ipython",
    "version": 3
   },
   "file_extension": ".py",
   "mimetype": "text/x-python",
   "name": "python",
   "nbconvert_exporter": "python",
   "pygments_lexer": "ipython3",
   "version": "3.5.2"
  }
 },
 "nbformat": 4,
 "nbformat_minor": 2
}
