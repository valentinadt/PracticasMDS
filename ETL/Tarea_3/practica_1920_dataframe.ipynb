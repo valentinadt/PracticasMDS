{
 "cells": [
  {
   "cell_type": "markdown",
   "metadata": {},
   "source": [
    "## Práctica examen 2019-2020\n",
    "\n",
    "__ETL, MDS__\n",
    "\n",
    "__Valentina Díaz Torres__"
   ]
  },
  {
   "cell_type": "markdown",
   "metadata": {},
   "source": [
    "##  The World Bank's international debt data\n",
    "\n",
    "<p>No es que los humanos solo tengamos deudas para administrar nuestras necesidades. Un país también puede endeudarse para administrar su economía. Por ejemplo, el gasto en infraestructura es un ingrediente costoso requerido para que los ciudadanos de un país lleven una vida cómoda. El Banco Mundial es la organización que proporciona deuda a los países.</p>\n",
    "\n",
    "<!-- <p>En este notebook, vamos a analizar los datos de la deuda internacional recopilados por el Banco Mundial. El conjunto de datos contiene información sobre el monto de la deuda (en USD) que deben los países en desarrollo en varias categorías.</p>  -->\n",
    "    "
   ]
  },
  {
   "cell_type": "markdown",
   "metadata": {},
   "source": [
    "\"Disbursements on external debt, long-term (DIS, current US$)\",DT.DIS.DLXF.CD\n",
    "\"Interest payments on external debt, long-term (INT, current US$)\",DT.INT.DLXF.CD\n",
    "\"PPG, bilateral (AMT, current US$)\",DT.AMT.BLAT.CD\n",
    "\"PPG, bilateral (DIS, current US$)\",DT.DIS.BLAT.CD\n",
    "\"PPG, bilateral (INT, current US$)\",DT.INT.BLAT.CD\n",
    "\"PPG, multilateral (AMT, current US$)\",DT.AMT.MLAT.CD\n",
    "\"PPG, multilateral (DIS, current US$)\",DT.DIS.MLAT.CD\n",
    "\"PPG, multilateral (INT, current US$)\",DT.INT.MLAT.CD\n",
    "\"PPG, official creditors (AMT, current US$)\",DT.AMT.OFFT.CD\n",
    "\"PPG, official creditors (DIS, current US$)\",DT.DIS.OFFT.CD\n",
    "\"PPG, official creditors (INT, current US$)\",DT.INT.OFFT.CD\n",
    "\"Principal repayments on external debt, long-term (AMT, current US$)\",DT.AMT.DLXF.CD\n",
    "\"Interest payments on external debt, private nonguaranteed (PNG) (INT, current US$)\",DT.INT.DPNG.CD\n",
    "\"PPG, bonds (AMT, current US$)\",DT.AMT.PBND.CD\n",
    "\"PPG, bonds (INT, current US$)\",DT.INT.PBND.CD\n",
    "\"PPG, commercial banks (AMT, current US$)\",DT.AMT.PCBK.CD\n",
    "\"PPG, commercial banks (DIS, current US$)\",DT.DIS.PCBK.CD\n",
    "\"PPG, commercial banks (INT, current US$)\",DT.INT.PCBK.CD\n",
    "\"PPG, other private creditors (AMT, current US$)\",DT.AMT.PROP.CD\n",
    "\"PPG, other private creditors (DIS, current US$)\",DT.DIS.PROP.CD\n",
    "\"PPG, other private creditors (INT, current US$)\",DT.INT.PROP.CD\n",
    "\"PPG, private creditors (AMT, current US$)\",DT.AMT.PRVT.CD\n",
    "\"PPG, private creditors (DIS, current US$)\",DT.DIS.PRVT.CD\n",
    "\"PPG, private creditors (INT, current US$)\",DT.INT.PRVT.CD\n",
    "\"Principal repayments on external debt, private nonguaranteed (PNG) (AMT, current US$)\",DT.AMT.DPNG.CD"
   ]
  },
  {
   "cell_type": "markdown",
   "metadata": {},
   "source": [
    "<p>Vamos a encontrar las respuestas a preguntas como:\n",
    "\n",
    "<p>¿Cuál es el monto total de la deuda que deben los países enumerados en el conjunto de datos?\n",
    "<p>¿Qué país posee la cantidad máxima de deuda y cómo se ve esa cantidad?\n",
    "<p>¿Cuál es el monto promedio de la deuda de los países a través de diferentes indicadores de deuda?\n",
    "    \n",
    "Además tenemos otro dataset en el que encontramos información histórica de algunos índices de desarrollo, entre los que se encuentran algunos de deuda como son:"
   ]
  },
  {
   "cell_type": "markdown",
   "metadata": {},
   "source": [
    "Series Name,Series Code\n",
    "\"Birth rate, crude (per 1,000 people)\",SP.DYN.CBRT.IN\n",
    "\n",
    "\"Central government debt, total (current LCU)\",GC.DOD.TOTL.CN\n",
    "\n",
    "\"Central government debt, total (% of GDP)\",GC.DOD.TOTL.GD.ZS"
   ]
  },
  {
   "cell_type": "markdown",
   "metadata": {},
   "source": [
    "__PREGUNTAS Y SOLUCIONES__"
   ]
  },
  {
   "cell_type": "markdown",
   "metadata": {},
   "source": [
    "#### 1. Inicializar y cargar el contexto spark"
   ]
  },
  {
   "cell_type": "code",
   "execution_count": 1,
   "metadata": {
    "collapsed": false
   },
   "outputs": [],
   "source": [
    "# Librerias e inicializacion y carga del contexto spark\n",
    "\n",
    "import re\n",
    "from pyspark.sql import functions as f\n",
    "from pyspark.sql import Row\n",
    "import numpy as np\n",
    "import pandas as pd\n",
    "from pyspark import SparkContext\n",
    "pd.options.display.max_columns = None \n",
    "pd.options.display.max_rows = None \n",
    "from pyspark.sql import SQLContext\n",
    "sc= SparkContext()\n",
    "sqlContext = SQLContext(sc)\n",
    "from pyspark.sql import *\n",
    "from pyspark.sql import SQLContext, functions as F, Row\n",
    "from pyspark.sql.types import *\n",
    "from pyspark.sql.types import StringType, IntegerType\n",
    "import findspark\n",
    "findspark.init()\n",
    "import pyspark # Call this only after findspark.init()\n",
    "from pyspark.context import SparkContext\n",
    "from pyspark.sql.session import SparkSession\n",
    "from pyspark.sql.functions import col\n",
    "sc = SparkContext.getOrCreate()\n",
    "spark = SparkSession(sc)\n",
    "from pyspark.sql.functions import desc\n",
    "from pyspark.sql.functions import col\n"
   ]
  },
  {
   "cell_type": "markdown",
   "metadata": {},
   "source": [
    "__Carga de datos__"
   ]
  },
  {
   "cell_type": "code",
   "execution_count": 2,
   "metadata": {
    "collapsed": false
   },
   "outputs": [],
   "source": [
    "# Carga de las dos bases de datos\n",
    "\n",
    "# Desarrollo\n",
    "\n",
    "i_desarrollo = spark.read.format('csv').option('header',True).option('multiLine', True).load('indicadores_desarrollo.csv')\n",
    "\n",
    "# Deuda\n",
    "\n",
    "i_deuda = spark.read.format('csv').option('header',True).option('multiLine', True).load('indicadores_deuda.csv')             "
   ]
  },
  {
   "cell_type": "markdown",
   "metadata": {},
   "source": [
    "__Explorar el aspecto que tienen los datos__"
   ]
  },
  {
   "cell_type": "code",
   "execution_count": 3,
   "metadata": {
    "collapsed": false
   },
   "outputs": [
    {
     "data": {
      "text/plain": [
       "134"
      ]
     },
     "execution_count": 3,
     "metadata": {},
     "output_type": "execute_result"
    }
   ],
   "source": [
    "# i_desarrollo tiene 134 filas\n",
    "\n",
    "i_desarrollo.count()"
   ]
  },
  {
   "cell_type": "code",
   "execution_count": 4,
   "metadata": {
    "collapsed": false
   },
   "outputs": [
    {
     "data": {
      "text/plain": [
       "124"
      ]
     },
     "execution_count": 4,
     "metadata": {},
     "output_type": "execute_result"
    }
   ],
   "source": [
    "#i_deuda tiene 124 filas\n",
    "\n",
    "i_deuda.count()"
   ]
  },
  {
   "cell_type": "code",
   "execution_count": 5,
   "metadata": {
    "collapsed": false
   },
   "outputs": [
    {
     "data": {
      "text/plain": [
       "['country_name',\n",
       " 'country_code',\n",
       " 'anho',\n",
       " 'GC.DOD.TOTL.CN',\n",
       " 'GC.DOD.TOTL.GD.ZS',\n",
       " 'SP.DYN.CBRT.IN']"
      ]
     },
     "execution_count": 5,
     "metadata": {},
     "output_type": "execute_result"
    }
   ],
   "source": [
    "#columnas existentes en i_desarrollo\n",
    "i_desarrollo.columns"
   ]
  },
  {
   "cell_type": "code",
   "execution_count": 6,
   "metadata": {
    "collapsed": false
   },
   "outputs": [
    {
     "data": {
      "text/plain": [
       "['country_name',\n",
       " 'country_code',\n",
       " 'DT.AMT.BLAT.CD',\n",
       " 'DT.AMT.DLXF.CD',\n",
       " 'DT.AMT.DPNG.CD',\n",
       " 'DT.AMT.MLAT.CD',\n",
       " 'DT.AMT.OFFT.CD',\n",
       " 'DT.AMT.PBND.CD',\n",
       " 'DT.AMT.PCBK.CD',\n",
       " 'DT.AMT.PROP.CD',\n",
       " 'DT.AMT.PRVT.CD',\n",
       " 'DT.DIS.BLAT.CD',\n",
       " 'DT.DIS.DLXF.CD',\n",
       " 'DT.DIS.MLAT.CD',\n",
       " 'DT.DIS.OFFT.CD',\n",
       " 'DT.DIS.PCBK.CD',\n",
       " 'DT.DIS.PROP.CD',\n",
       " 'DT.DIS.PRVT.CD',\n",
       " 'DT.INT.BLAT.CD',\n",
       " 'DT.INT.DLXF.CD',\n",
       " 'DT.INT.DPNG.CD',\n",
       " 'DT.INT.MLAT.CD',\n",
       " 'DT.INT.OFFT.CD',\n",
       " 'DT.INT.PBND.CD',\n",
       " 'DT.INT.PCBK.CD',\n",
       " 'DT.INT.PROP.CD',\n",
       " 'DT.INT.PRVT.CD']"
      ]
     },
     "execution_count": 6,
     "metadata": {},
     "output_type": "execute_result"
    }
   ],
   "source": [
    "#columnas existentes en i_deuda\n",
    "\n",
    "i_deuda.columns"
   ]
  },
  {
   "cell_type": "code",
   "execution_count": 7,
   "metadata": {
    "collapsed": false,
    "scrolled": true
   },
   "outputs": [
    {
     "data": {
      "text/plain": [
       "[Row(country_name='Albania', country_code='ALB', anho='2014 [YR2014]', GC.DOD.TOTL.CN='1023040800000', GC.DOD.TOTL.GD.ZS='73.3202469198429', SP.DYN.CBRT.IN='12.259'),\n",
       " Row(country_name='Albania', country_code='ALB', anho='2015 [YR2015]', GC.DOD.TOTL.CN='1145500940000', GC.DOD.TOTL.GD.ZS='79.8644448747259', SP.DYN.CBRT.IN='12.197'),\n",
       " Row(country_name='Albania', country_code='ALB', anho='2016 [YR2016]', GC.DOD.TOTL.CN='1188814490000', GC.DOD.TOTL.GD.ZS='80.7355748396923', SP.DYN.CBRT.IN='12.08'),\n",
       " Row(country_name='Australia', country_code='AUS', anho='2014 [YR2014]', GC.DOD.TOTL.CN='674700000', GC.DOD.TOTL.GD.ZS='0.042207528166503', SP.DYN.CBRT.IN='13.2'),\n",
       " Row(country_name='Australia', country_code='AUS', anho='2015 [YR2015]', GC.DOD.TOTL.CN='762718000', GC.DOD.TOTL.GD.ZS='0.0469480198522591', SP.DYN.CBRT.IN='12.9')]"
      ]
     },
     "execution_count": 7,
     "metadata": {},
     "output_type": "execute_result"
    }
   ],
   "source": [
    "#aspecto de i_desarrollo\n",
    "i_desarrollo.take(5)"
   ]
  },
  {
   "cell_type": "code",
   "execution_count": 8,
   "metadata": {
    "collapsed": false
   },
   "outputs": [
    {
     "data": {
      "text/plain": [
       "[Row(country_name='Afghanistan', country_code='AFG', DT.AMT.BLAT.CD='61739336.9', DT.AMT.DLXF.CD='100847181.9', DT.AMT.DPNG.CD=None, DT.AMT.MLAT.CD='39107845', DT.AMT.OFFT.CD='100847181.9', DT.AMT.PBND.CD=None, DT.AMT.PCBK.CD=None, DT.AMT.PROP.CD=None, DT.AMT.PRVT.CD=None, DT.DIS.BLAT.CD='49114729.4', DT.DIS.DLXF.CD='72894453.7', DT.DIS.MLAT.CD='23779724.3', DT.DIS.OFFT.CD='72894453.7', DT.DIS.PCBK.CD=None, DT.DIS.PROP.CD=None, DT.DIS.PRVT.CD=None, DT.INT.BLAT.CD='39903620.1', DT.INT.DLXF.CD='53239440.1', DT.INT.DPNG.CD=None, DT.INT.MLAT.CD='13335820', DT.INT.OFFT.CD='53239440.1', DT.INT.PBND.CD=None, DT.INT.PCBK.CD=None, DT.INT.PROP.CD=None, DT.INT.PRVT.CD=None),\n",
       " Row(country_name='Albania', country_code='ALB', DT.AMT.BLAT.CD='54250280.6', DT.AMT.DLXF.CD='790248675.2', DT.AMT.DPNG.CD='514185620', DT.AMT.MLAT.CD='182197616.7', DT.AMT.OFFT.CD='236447897.3', DT.AMT.PBND.CD='0', DT.AMT.PCBK.CD='39445139.5', DT.AMT.PROP.CD='170018.4', DT.AMT.PRVT.CD='39615157.9', DT.DIS.BLAT.CD='76050616.1', DT.DIS.DLXF.CD='317194512.5', DT.DIS.MLAT.CD='234321242.3', DT.DIS.OFFT.CD='310371858.4', DT.DIS.PCBK.CD='4542664.9', DT.DIS.PROP.CD='2279989.2', DT.DIS.PRVT.CD='6822654.1', DT.INT.BLAT.CD='13847333.6', DT.INT.DLXF.CD='165602386.9', DT.INT.DPNG.CD='87884000', DT.INT.MLAT.CD='28101536.1', DT.INT.OFFT.CD='41948869.7', DT.INT.PBND.CD='31030688.2', DT.INT.PCBK.CD='4618504.3', DT.INT.PROP.CD='120324.7', DT.INT.PRVT.CD='35769517.2'),\n",
       " Row(country_name='Algeria', country_code='DZA', DT.AMT.BLAT.CD='95188724.6', DT.AMT.DLXF.CD='171185188.1', DT.AMT.DPNG.CD='75420000', DT.AMT.MLAT.CD='0', DT.AMT.OFFT.CD='95188724.6', DT.AMT.PBND.CD=None, DT.AMT.PCBK.CD='576463.5', DT.AMT.PROP.CD='0', DT.AMT.PRVT.CD='576463.5', DT.DIS.BLAT.CD='10320772.2', DT.DIS.DLXF.CD='10320772.2', DT.DIS.MLAT.CD=None, DT.DIS.OFFT.CD='10320772.2', DT.DIS.PCBK.CD=None, DT.DIS.PROP.CD=None, DT.DIS.PRVT.CD=None, DT.INT.BLAT.CD='7680627.6', DT.INT.DLXF.CD='19031728.7', DT.INT.DPNG.CD='3220000', DT.INT.MLAT.CD='8094779', DT.INT.OFFT.CD='15775406.6', DT.INT.PBND.CD=None, DT.INT.PCBK.CD='13192.3', DT.INT.PROP.CD='23129.8', DT.INT.PRVT.CD='36322.1')]"
      ]
     },
     "execution_count": 8,
     "metadata": {},
     "output_type": "execute_result"
    }
   ],
   "source": [
    "#aspecto de i_deuda\n",
    "i_deuda.take(3)"
   ]
  },
  {
   "cell_type": "code",
   "execution_count": 9,
   "metadata": {
    "collapsed": false
   },
   "outputs": [],
   "source": [
    "#renombrar algunas de las columnas de i_desarrollo que más tarde utilizaré, para poder trabajar con ellas,\n",
    "#ya que contienen puntos.\n",
    "\n",
    "#DEUDA\n",
    "\n",
    "i_deuda = i_deuda.withColumnRenamed('DT.AMT.BLAT.CD','dt_amt_blat_cd')\n",
    "i_deuda = i_deuda.withColumnRenamed('DT.AMT.MLAT.CD' , 'dt_amt_mlat_cd')\n",
    "i_deuda = i_deuda.withColumnRenamed('DT.DIS.BLAT.CD' , 'dt_dis_blat_cd')\n",
    "i_deuda = i_deuda.withColumnRenamed('DT.INT.BLAT.CD' , 'dt_int_blat_cd')\n",
    "i_deuda = i_deuda.withColumnRenamed('DT.AMT.BLAT.CD' , 'dt_amt_blat_cd')\n",
    "i_deuda = i_deuda.withColumnRenamed('SP.DYN.CBRT.IN' , 'sp_dyn_crbt_in')\n",
    "i_deuda = i_deuda.withColumnRenamed('DT.AMT.DLXF.CD' , 'dt_amt_dlxf_cd')\n",
    "\n",
    "#DESARROLLO\n",
    "\n",
    "\n",
    "i_desarrollo = i_desarrollo.withColumnRenamed('anho' , 'year')\n",
    "i_desarrollo = i_desarrollo.withColumnRenamed('GC.DOD.TOTL.CN' , 'gc_dod_tolt_cn')\n",
    "i_desarrollo = i_desarrollo.withColumnRenamed('GC.DOD.TOTL.GD.ZS' , 'gc_dod_totl_gd_zs')\n",
    "i_desarrollo = i_desarrollo.withColumnRenamed('SP.DYN.CBRT.IN' , 'sp_dyn_cbrt_in')\n"
   ]
  },
  {
   "cell_type": "markdown",
   "metadata": {},
   "source": [
    "##### 2. Número de países distintos en cada dataset. Coinciden?"
   ]
  },
  {
   "cell_type": "markdown",
   "metadata": {},
   "source": [
    "El número de países que aparecen en cada dataset es el siguiente:"
   ]
  },
  {
   "cell_type": "code",
   "execution_count": 10,
   "metadata": {
    "collapsed": false
   },
   "outputs": [
    {
     "data": {
      "text/plain": [
       "124"
      ]
     },
     "execution_count": 10,
     "metadata": {},
     "output_type": "execute_result"
    }
   ],
   "source": [
    "paises_deuda = i_deuda.groupBy(\"country_name\").sum().distinct().collect()\n",
    "len(paises_deuda)"
   ]
  },
  {
   "cell_type": "code",
   "execution_count": 11,
   "metadata": {
    "collapsed": false,
    "scrolled": true
   },
   "outputs": [
    {
     "data": {
      "text/plain": [
       "51"
      ]
     },
     "execution_count": 11,
     "metadata": {},
     "output_type": "execute_result"
    }
   ],
   "source": [
    "paises_desarrollo = i_desarrollo.groupBy(\"country_name\").sum().distinct().collect()\n",
    "len(paises_desarrollo)"
   ]
  },
  {
   "cell_type": "markdown",
   "metadata": {},
   "source": [
    "El número de países existentes en desarrollo y en deuda es diferente. Anteriormente, se han mostrado los países que aparecen en una y otra base de datos. El total de países de deuda es de 124 y en desarrollo 51."
   ]
  },
  {
   "cell_type": "markdown",
   "metadata": {},
   "source": [
    "A continuación se muestran todos los países que contienen los dos datasets, con el número de registros que cada uno contine, es decir el número de veces que el país aparece."
   ]
  },
  {
   "cell_type": "code",
   "execution_count": 12,
   "metadata": {
    "collapsed": false
   },
   "outputs": [
    {
     "name": "stdout",
     "output_type": "stream",
     "text": [
      "+--------------------+-----+\n",
      "|        country_name|count|\n",
      "+--------------------+-----+\n",
      "|          South Asia|    1|\n",
      "|                Chad|    1|\n",
      "|            Paraguay|    1|\n",
      "|    Congo, Dem. Rep.|    1|\n",
      "|             Senegal|    1|\n",
      "|          Cabo Verde|    1|\n",
      "|Least developed c...|    1|\n",
      "|      Macedonia, FYR|    1|\n",
      "|              Guyana|    1|\n",
      "|             Eritrea|    1|\n",
      "|         Philippines|    1|\n",
      "|            Djibouti|    1|\n",
      "|               Tonga|    1|\n",
      "|                Fiji|    1|\n",
      "|              Turkey|    1|\n",
      "|              Malawi|    1|\n",
      "|             Comoros|    1|\n",
      "|         Afghanistan|    1|\n",
      "|            Cambodia|    1|\n",
      "|              Jordan|    1|\n",
      "|            Maldives|    1|\n",
      "|              Rwanda|    1|\n",
      "|               Sudan|    1|\n",
      "|              Kosovo|    1|\n",
      "|           Sri Lanka|    1|\n",
      "|            Dominica|    1|\n",
      "|             Algeria|    1|\n",
      "|                Togo|    1|\n",
      "|              Angola|    1|\n",
      "|  Iran, Islamic Rep.|    1|\n",
      "|             Ecuador|    1|\n",
      "|             Lesotho|    1|\n",
      "|             Albania|    1|\n",
      "|          Madagascar|    1|\n",
      "|               Ghana|    1|\n",
      "|             Myanmar|    1|\n",
      "|           Nicaragua|    1|\n",
      "|            IDA only|    1|\n",
      "|               Benin|    1|\n",
      "|                Peru|    1|\n",
      "|        Sierra Leone|    1|\n",
      "|           St. Lucia|    1|\n",
      "|               China|    1|\n",
      "|               India|    1|\n",
      "|             Belarus|    1|\n",
      "|         Timor-Leste|    1|\n",
      "|             Lao PDR|    1|\n",
      "|Sao Tome and Prin...|    1|\n",
      "|             Somalia|    1|\n",
      "|          Tajikistan|    1|\n",
      "|       Venezuela, RB|    1|\n",
      "|             Burundi|    1|\n",
      "|             Bolivia|    1|\n",
      "|             Nigeria|    1|\n",
      "|               Gabon|    1|\n",
      "|        Turkmenistan|    1|\n",
      "|          Mauritania|    1|\n",
      "|         Congo, Rep.|    1|\n",
      "|Central African R...|    1|\n",
      "|               Niger|    1|\n",
      "|          Bangladesh|    1|\n",
      "|  Russian Federation|    1|\n",
      "|         Gambia, The|    1|\n",
      "|            Thailand|    1|\n",
      "|              Bhutan|    1|\n",
      "|             Morocco|    1|\n",
      "|             Ukraine|    1|\n",
      "|       Cote d'Ivoire|    1|\n",
      "|              Mexico|    1|\n",
      "|             Georgia|    1|\n",
      "|          Montenegro|    1|\n",
      "|            Zimbabwe|    1|\n",
      "|           Indonesia|    1|\n",
      "|           Guatemala|    1|\n",
      "|            Mongolia|    1|\n",
      "|          Azerbaijan|    1|\n",
      "|    Egypt, Arab Rep.|    1|\n",
      "|             Grenada|    1|\n",
      "|             Armenia|    1|\n",
      "|             Liberia|    1|\n",
      "|             Tunisia|    1|\n",
      "|            Honduras|    1|\n",
      "|              Uganda|    1|\n",
      "|              Zambia|    1|\n",
      "|            Ethiopia|    1|\n",
      "|            Eswatini|    1|\n",
      "|             Jamaica|    1|\n",
      "|              Guinea|    1|\n",
      "|               Samoa|    1|\n",
      "|          Uzbekistan|    1|\n",
      "|     Kyrgyz Republic|    1|\n",
      "|          Mozambique|    1|\n",
      "|              Belize|    1|\n",
      "|              Brazil|    1|\n",
      "|               Kenya|    1|\n",
      "|St. Vincent and t...|    1|\n",
      "|             Lebanon|    1|\n",
      "|         Yemen, Rep.|    1|\n",
      "|  Dominican Republic|    1|\n",
      "|            Botswana|    1|\n",
      "|            Tanzania|    1|\n",
      "|Bosnia and Herzeg...|    1|\n",
      "|               Haiti|    1|\n",
      "|            Cameroon|    1|\n",
      "|    Papua New Guinea|    1|\n",
      "|       Guinea-Bissau|    1|\n",
      "|             Romania|    1|\n",
      "|            Bulgaria|    1|\n",
      "|     Solomon Islands|    1|\n",
      "|               Nepal|    1|\n",
      "|          Costa Rica|    1|\n",
      "|         El Salvador|    1|\n",
      "|          Kazakhstan|    1|\n",
      "|              Serbia|    1|\n",
      "|        Burkina Faso|    1|\n",
      "|        South Africa|    1|\n",
      "|            Colombia|    1|\n",
      "|            Pakistan|    1|\n",
      "|             Vanuatu|    1|\n",
      "|           Mauritius|    1|\n",
      "|             Moldova|    1|\n",
      "|Syrian Arab Republic|    1|\n",
      "|             Vietnam|    1|\n",
      "|                Mali|    1|\n",
      "+--------------------+-----+\n",
      "\n"
     ]
    }
   ],
   "source": [
    "i_deuda.groupBy(\"country_name\").count().show(124)"
   ]
  },
  {
   "cell_type": "code",
   "execution_count": 13,
   "metadata": {
    "collapsed": false
   },
   "outputs": [
    {
     "name": "stdout",
     "output_type": "stream",
     "text": [
      "+--------------------+-----+\n",
      "|        country_name|count|\n",
      "+--------------------+-----+\n",
      "|         Philippines|    1|\n",
      "|               Tonga|    3|\n",
      "|            Malaysia|    3|\n",
      "|           Singapore|    3|\n",
      "|              Turkey|    3|\n",
      "|              Malawi|    4|\n",
      "|              Jordan|    2|\n",
      "|               Palau|    3|\n",
      "|           Sri Lanka|    2|\n",
      "|          San Marino|    2|\n",
      "|             Albania|    3|\n",
      "|                Peru|    3|\n",
      "|           St. Lucia|    1|\n",
      "|       United States|    3|\n",
      "|             Belarus|    3|\n",
      "| St. Kitts and Nevis|    1|\n",
      "|               Spain|    3|\n",
      "|            Barbados|    2|\n",
      "|  Russian Federation|    3|\n",
      "|             Ireland|    3|\n",
      "|            Thailand|    2|\n",
      "|              Bhutan|    3|\n",
      "|             Ukraine|    3|\n",
      "|             Uruguay|    3|\n",
      "|             Georgia|    3|\n",
      "|           Indonesia|    3|\n",
      "|           Guatemala|    3|\n",
      "|         Korea, Rep.|    3|\n",
      "|             Namibia|    1|\n",
      "|         Switzerland|    3|\n",
      "|              Zambia|    2|\n",
      "|             Jamaica|    3|\n",
      "|Micronesia, Fed. ...|    3|\n",
      "|          Seychelles|    2|\n",
      "|     Kyrgyz Republic|    3|\n",
      "|              Belize|    1|\n",
      "|              Brazil|    3|\n",
      "|St. Vincent and t...|    1|\n",
      "|            Botswana|    3|\n",
      "|               Japan|    3|\n",
      "|         New Zealand|    3|\n",
      "|        Bahamas, The|    3|\n",
      "|           Australia|    3|\n",
      "|    Papua New Guinea|    2|\n",
      "|     Solomon Islands|    3|\n",
      "|         El Salvador|    3|\n",
      "|          Kazakhstan|    3|\n",
      "|            Colombia|    3|\n",
      "|             Hungary|    3|\n",
      "|             Moldova|    3|\n",
      "|      United Kingdom|    3|\n",
      "+--------------------+-----+\n",
      "\n"
     ]
    }
   ],
   "source": [
    "i_desarrollo.groupBy(\"country_name\").count().show(51)"
   ]
  },
  {
   "cell_type": "markdown",
   "metadata": {},
   "source": [
    "##### 3. Total de deuda contraida por cada pais: total amount of debt (in USD) DT.AMT.MLAT.CD"
   ]
  },
  {
   "cell_type": "markdown",
   "metadata": {},
   "source": [
    "En la siguiente tabla, se han calculado los totales de duda y agrupados por cada país, de tal forma que quede todo recogido."
   ]
  },
  {
   "cell_type": "code",
   "execution_count": 14,
   "metadata": {
    "collapsed": false
   },
   "outputs": [
    {
     "name": "stdout",
     "output_type": "stream",
     "text": [
      "+--------------------+---------------+\n",
      "|        country_name|deudaTotal_pais|\n",
      "+--------------------+---------------+\n",
      "|          South Asia| 7.8517399295E9|\n",
      "|                Chad|   9.57387095E7|\n",
      "|            Paraguay|  2.076620309E8|\n",
      "|    Congo, Dem. Rep.|   1.43105462E8|\n",
      "|             Senegal|  1.704379291E8|\n",
      "|          Cabo Verde|   3.99701249E7|\n",
      "|Least developed c...| 4.0842755242E9|\n",
      "|      Macedonia, FYR|  1.859528672E8|\n",
      "|              Guyana|   3.46518065E7|\n",
      "|             Eritrea|   1.54824754E7|\n",
      "|         Philippines|  7.390564273E8|\n",
      "|            Djibouti|   3.42549092E7|\n",
      "|               Tonga|      2791253.2|\n",
      "|                Fiji|      9082442.6|\n",
      "|              Turkey|  2.932698678E9|\n",
      "|              Malawi|   3.56598314E7|\n",
      "|             Comoros|      2182053.1|\n",
      "|         Afghanistan|    3.9107845E7|\n",
      "|            Cambodia|   7.23070018E7|\n",
      "|              Jordan|  2.704987155E8|\n",
      "+--------------------+---------------+\n",
      "only showing top 20 rows\n",
      "\n"
     ]
    }
   ],
   "source": [
    "deudaPais = i_deuda.groupby([\"country_name\"]).agg(f.sum('dt_amt_mlat_cd').alias(\"deudaTotal_pais\"))\n",
    "deudaPais.show()"
   ]
  },
  {
   "cell_type": "markdown",
   "metadata": {},
   "source": [
    "##### 4. Media de los indicadores de deuda (tabla uno): DT.AMT.BLAT.CD, DT.DIS.BLAT.CD, DT.INT.BLAT.CD"
   ]
  },
  {
   "cell_type": "markdown",
   "metadata": {},
   "source": [
    "* DT.AMT.BLAT.CD"
   ]
  },
  {
   "cell_type": "code",
   "execution_count": 15,
   "metadata": {
    "collapsed": false
   },
   "outputs": [
    {
     "name": "stdout",
     "output_type": "stream",
     "text": [
      "+--------------------+----------------+\n",
      "|        country_name|    media_1_pais|\n",
      "+--------------------+----------------+\n",
      "|          South Asia|  6.4378044481E9|\n",
      "|                Chad|    8.23572149E7|\n",
      "|            Paraguay|    5.83141627E7|\n",
      "|    Congo, Dem. Rep.|   1.164523294E8|\n",
      "|             Senegal|   1.322410302E8|\n",
      "|          Cabo Verde|    1.17676543E7|\n",
      "|Least developed c...|1.29447030366E10|\n",
      "|      Macedonia, FYR|    7.05705503E7|\n",
      "|              Guyana|    2.17585257E7|\n",
      "|             Eritrea|    1.56276024E7|\n",
      "|         Philippines|   6.704754179E8|\n",
      "|            Djibouti|    4.88032791E7|\n",
      "|               Tonga|       7554054.0|\n",
      "|                Fiji|    3.73828766E7|\n",
      "|              Turkey|   6.464638798E8|\n",
      "|              Malawi|    2.17625417E7|\n",
      "|             Comoros|       2610216.0|\n",
      "|         Afghanistan|    6.17393369E7|\n",
      "|            Cambodia|   2.233002736E8|\n",
      "|              Jordan|   2.302044672E8|\n",
      "+--------------------+----------------+\n",
      "only showing top 20 rows\n",
      "\n"
     ]
    }
   ],
   "source": [
    "# Media por pais según el indicador DT.AMT.BLAT.CD\n",
    "\n",
    "media_1 = i_deuda.groupBy(\"country_name\").agg(f.avg(\"dt_amt_blat_cd\").alias(\"media_1_pais\")).show()"
   ]
  },
  {
   "cell_type": "code",
   "execution_count": 16,
   "metadata": {
    "collapsed": false
   },
   "outputs": [
    {
     "name": "stdout",
     "output_type": "stream",
     "text": [
      "+-------------------+\n",
      "|avg(dt_amt_blat_cd)|\n",
      "+-------------------+\n",
      "|7.126196346598358E8|\n",
      "+-------------------+\n",
      "\n"
     ]
    }
   ],
   "source": [
    "# Media total\n",
    "\n",
    "i_deuda.agg({\"dt_amt_blat_cd\": \"avg\"}).show()"
   ]
  },
  {
   "cell_type": "markdown",
   "metadata": {},
   "source": [
    "* DT.DIS.BLAT.CD"
   ]
  },
  {
   "cell_type": "code",
   "execution_count": 17,
   "metadata": {
    "collapsed": false
   },
   "outputs": [
    {
     "name": "stdout",
     "output_type": "stream",
     "text": [
      "+--------------------+----------------+\n",
      "|        country_name|    media_2_pais|\n",
      "+--------------------+----------------+\n",
      "|          South Asia|1.72691140409E10|\n",
      "|                Chad|    2.79876609E7|\n",
      "|            Paraguay|   1.324315404E8|\n",
      "|    Congo, Dem. Rep.|    1.03263632E8|\n",
      "|             Senegal|   5.486485091E8|\n",
      "|          Cabo Verde|    3.71784448E7|\n",
      "|Least developed c...|2.33339563884E10|\n",
      "|      Macedonia, FYR|   1.013965784E8|\n",
      "|              Guyana|    3.55846841E7|\n",
      "|             Eritrea|       2678802.6|\n",
      "|         Philippines|   5.441485278E8|\n",
      "|            Djibouti|    8.56870121E7|\n",
      "|               Tonga|            null|\n",
      "|                Fiji|       3902886.7|\n",
      "|              Turkey|   4.152690754E8|\n",
      "|              Malawi|    2.65599433E7|\n",
      "|             Comoros|       8492726.4|\n",
      "|         Afghanistan|    4.91147294E7|\n",
      "|            Cambodia|   4.766838294E8|\n",
      "|              Jordan|   1.754843073E8|\n",
      "+--------------------+----------------+\n",
      "only showing top 20 rows\n",
      "\n"
     ]
    }
   ],
   "source": [
    "# Media por pais según DT.DIS.BLAT.CD\n",
    "\n",
    "media_2 = i_deuda.groupBy(\"country_name\").agg(f.avg(\"dt_dis_blat_cd\").alias(\"media_2_pais\")).show()"
   ]
  },
  {
   "cell_type": "code",
   "execution_count": 18,
   "metadata": {
    "collapsed": false
   },
   "outputs": [
    {
     "name": "stdout",
     "output_type": "stream",
     "text": [
      "+-------------------+\n",
      "|avg(dt_dis_blat_cd)|\n",
      "+-------------------+\n",
      "| 1.22313929039823E9|\n",
      "+-------------------+\n",
      "\n"
     ]
    }
   ],
   "source": [
    "# Media total del indicador\n",
    "\n",
    "i_deuda.agg({\"dt_dis_blat_cd\": \"avg\"}).show()"
   ]
  },
  {
   "cell_type": "markdown",
   "metadata": {},
   "source": [
    "* DT.INT.BLAT.CD"
   ]
  },
  {
   "cell_type": "code",
   "execution_count": 19,
   "metadata": {
    "collapsed": false
   },
   "outputs": [
    {
     "name": "stdout",
     "output_type": "stream",
     "text": [
      "+--------------------+--------------+\n",
      "|        country_name|  media_2_pais|\n",
      "+--------------------+--------------+\n",
      "|          South Asia|2.0049174493E9|\n",
      "|                Chad|  1.18827709E7|\n",
      "|            Paraguay|     5158922.3|\n",
      "|    Congo, Dem. Rep.|  6.22606531E7|\n",
      "|             Senegal|  6.28565493E7|\n",
      "|          Cabo Verde|     4216236.3|\n",
      "|Least developed c...|3.0298263523E9|\n",
      "|      Macedonia, FYR|  1.41276186E7|\n",
      "|              Guyana|     4885618.3|\n",
      "|             Eritrea|     1556112.1|\n",
      "|         Philippines| 1.042379929E8|\n",
      "|            Djibouti|  4.48788819E7|\n",
      "|               Tonga|     1559371.0|\n",
      "|                Fiji|     6175526.5|\n",
      "|              Turkey| 1.104107777E8|\n",
      "|              Malawi|     7850229.4|\n",
      "|             Comoros|      782831.5|\n",
      "|         Afghanistan|  3.99036201E7|\n",
      "|            Cambodia|  6.38366832E7|\n",
      "|              Jordan|  6.21361037E7|\n",
      "+--------------------+--------------+\n",
      "only showing top 20 rows\n",
      "\n"
     ]
    }
   ],
   "source": [
    "# Media por país del indicador DT.INT.BLAT.CD\n",
    "\n",
    "media_3 = i_deuda.groupBy(\"country_name\").agg(f.avg(\"dt_int_blat_cd\").alias(\"media_2_pais\")).show()"
   ]
  },
  {
   "cell_type": "code",
   "execution_count": 20,
   "metadata": {
    "collapsed": false
   },
   "outputs": [
    {
     "name": "stdout",
     "output_type": "stream",
     "text": [
      "+-------------------+\n",
      "|avg(dt_int_blat_cd)|\n",
      "+-------------------+\n",
      "|1.640932856090164E8|\n",
      "+-------------------+\n",
      "\n"
     ]
    }
   ],
   "source": [
    "# Deuda total indicador\n",
    "\n",
    "i_deuda.agg({\"dt_int_blat_cd\": \"avg\"}).show()"
   ]
  },
  {
   "cell_type": "markdown",
   "metadata": {},
   "source": [
    "##### 5. Los 20 paises con DT.AMT.DLXF.CD más alto"
   ]
  },
  {
   "cell_type": "markdown",
   "metadata": {},
   "source": [
    "Para obtener los 20 países con mayor indicador DT.AMT.DLXF.CD, en primer lugar, se agrupa por país y por la columna del indicador. Una vez rescatados los datos, se ordenan de mayor a menor, para quedarse con los 20 primeros y así obtener el \"top 20\" del indicador."
   ]
  },
  {
   "cell_type": "code",
   "execution_count": 21,
   "metadata": {
    "collapsed": false
   },
   "outputs": [],
   "source": [
    "# Agrupar por país y por la columna del indicador\n",
    "\n",
    "top_20 = i_deuda.groupBy(\"country_name\").agg(f.sum(\"dt_amt_dlxf_cd\").alias(\"top_20\"))\n"
   ]
  },
  {
   "cell_type": "code",
   "execution_count": 22,
   "metadata": {
    "collapsed": false
   },
   "outputs": [
    {
     "name": "stdout",
     "output_type": "stream",
     "text": [
      "+--------------------+----------------+\n",
      "|        country_name|          top_20|\n",
      "+--------------------+----------------+\n",
      "|               China|9.62186208357E10|\n",
      "|              Brazil|9.00418403041E10|\n",
      "|  Russian Federation|6.65897618335E10|\n",
      "|              Turkey|5.15550310058E10|\n",
      "|          South Asia|4.87562958982E10|\n",
      "|               India|3.19235070008E10|\n",
      "|           Indonesia|3.09161126538E10|\n",
      "|          Kazakhstan|2.74820936864E10|\n",
      "|              Mexico| 2.5218503927E10|\n",
      "|Least developed c...|2.51970292994E10|\n",
      "|            IDA only| 2.0483289208E10|\n",
      "|             Romania|1.40137833504E10|\n",
      "|            Colombia|1.19856744387E10|\n",
      "|              Angola|1.10670456281E10|\n",
      "|            Cameroon|1.04048149602E10|\n",
      "|       Venezuela, RB|  9.8786592072E9|\n",
      "|    Egypt, Arab Rep.|  9.6921141769E9|\n",
      "|             Lebanon|  9.5069196696E9|\n",
      "|        South Africa|  9.4742575519E9|\n",
      "|             Vietnam|  8.8735059092E9|\n",
      "+--------------------+----------------+\n",
      "only showing top 20 rows\n",
      "\n"
     ]
    }
   ],
   "source": [
    "# Ordenar de mayor a menor y mostrar solo 20\n",
    "\n",
    "top_20.sort(f.col(\"top_20\").desc()).show(20)"
   ]
  },
  {
   "cell_type": "markdown",
   "metadata": {},
   "source": [
    "##### 6. Pais con los datos informados todos los años."
   ]
  },
  {
   "cell_type": "markdown",
   "metadata": {},
   "source": [
    "Para conocer qué país del dataset de desarrollo ha proporcionado datos todos los años, en primer lugar, se realiza la función count, para saber la frecuencia de cada país. Se observa, que el valor máximo es 4, 4 veces, que coincide con el número de años que aparecen en el dataset. A continuación se realiza un filtrado de aquellos que cumplan con la condición de aparecer 4 veces en los datos.\n"
   ]
  },
  {
   "cell_type": "code",
   "execution_count": 23,
   "metadata": {
    "collapsed": false
   },
   "outputs": [
    {
     "name": "stdout",
     "output_type": "stream",
     "text": [
      "+-------------------+-----+\n",
      "|       country_name|count|\n",
      "+-------------------+-----+\n",
      "|        Philippines|    1|\n",
      "|              Tonga|    3|\n",
      "|           Malaysia|    3|\n",
      "|          Singapore|    3|\n",
      "|             Turkey|    3|\n",
      "|             Malawi|    4|\n",
      "|             Jordan|    2|\n",
      "|              Palau|    3|\n",
      "|          Sri Lanka|    2|\n",
      "|         San Marino|    2|\n",
      "|            Albania|    3|\n",
      "|               Peru|    3|\n",
      "|          St. Lucia|    1|\n",
      "|      United States|    3|\n",
      "|            Belarus|    3|\n",
      "|St. Kitts and Nevis|    1|\n",
      "|              Spain|    3|\n",
      "|           Barbados|    2|\n",
      "| Russian Federation|    3|\n",
      "|            Ireland|    3|\n",
      "+-------------------+-----+\n",
      "only showing top 20 rows\n",
      "\n"
     ]
    }
   ],
   "source": [
    "i_desarrollo.groupBy(\"country_name\").count().show()"
   ]
  },
  {
   "cell_type": "markdown",
   "metadata": {},
   "source": [
    "Se comprueba que los países con un número 4 en la columna de la tabla anterior \"count\" son los que tienen datos informados todos los años. Para comprobar qué país o países son estos, se realiza un filter."
   ]
  },
  {
   "cell_type": "code",
   "execution_count": 24,
   "metadata": {
    "collapsed": false
   },
   "outputs": [
    {
     "name": "stdout",
     "output_type": "stream",
     "text": [
      "+------------+-----+\n",
      "|country_name|count|\n",
      "+------------+-----+\n",
      "|      Malawi|    4|\n",
      "+------------+-----+\n",
      "\n"
     ]
    }
   ],
   "source": [
    "totales_paises = i_desarrollo.groupBy(\"country_name\").count().filter(\"count == 4\")\n",
    "totales_paises.show()"
   ]
  },
  {
   "cell_type": "markdown",
   "metadata": {},
   "source": [
    "Finalmente, el resultado es Malawi."
   ]
  },
  {
   "cell_type": "markdown",
   "metadata": {},
   "source": [
    "En el caso del dataset de deuda, no tiene sentido el estudio, ya que todos los países se repiten una vez solo."
   ]
  },
  {
   "cell_type": "code",
   "execution_count": 25,
   "metadata": {
    "collapsed": false
   },
   "outputs": [
    {
     "name": "stdout",
     "output_type": "stream",
     "text": [
      "+--------------------+-----+\n",
      "|        country_name|count|\n",
      "+--------------------+-----+\n",
      "|          South Asia|    1|\n",
      "|                Chad|    1|\n",
      "|            Paraguay|    1|\n",
      "|    Congo, Dem. Rep.|    1|\n",
      "|             Senegal|    1|\n",
      "|          Cabo Verde|    1|\n",
      "|Least developed c...|    1|\n",
      "|      Macedonia, FYR|    1|\n",
      "|              Guyana|    1|\n",
      "|             Eritrea|    1|\n",
      "|         Philippines|    1|\n",
      "|            Djibouti|    1|\n",
      "|               Tonga|    1|\n",
      "|                Fiji|    1|\n",
      "|              Turkey|    1|\n",
      "|              Malawi|    1|\n",
      "|             Comoros|    1|\n",
      "|         Afghanistan|    1|\n",
      "|            Cambodia|    1|\n",
      "|              Jordan|    1|\n",
      "+--------------------+-----+\n",
      "only showing top 20 rows\n",
      "\n"
     ]
    }
   ],
   "source": [
    "i_deuda.groupBy(\"country_name\").count().show()"
   ]
  },
  {
   "cell_type": "markdown",
   "metadata": {},
   "source": [
    "##### 7. Media anual de los distintos indicadores de desarrollo"
   ]
  },
  {
   "cell_type": "markdown",
   "metadata": {},
   "source": [
    "En este apartado se realizan las medias anuales de los tres indicadores de desarrollo que aparecen en el dataset. Para ello, se puede observar el nombre de las columnas del mismo."
   ]
  },
  {
   "cell_type": "code",
   "execution_count": 26,
   "metadata": {
    "collapsed": false
   },
   "outputs": [
    {
     "data": {
      "text/plain": [
       "['country_name',\n",
       " 'country_code',\n",
       " 'year',\n",
       " 'gc_dod_tolt_cn',\n",
       " 'gc_dod_totl_gd_zs',\n",
       " 'sp_dyn_cbrt_in']"
      ]
     },
     "execution_count": 26,
     "metadata": {},
     "output_type": "execute_result"
    }
   ],
   "source": [
    "i_desarrollo.columns"
   ]
  },
  {
   "cell_type": "markdown",
   "metadata": {},
   "source": [
    "Una vez que estos se conocen, se agrupa por año y se realiza la media del indicador, de tal forma que todos los datos quedan recogidos en una tabla."
   ]
  },
  {
   "cell_type": "code",
   "execution_count": 31,
   "metadata": {
    "collapsed": false
   },
   "outputs": [
    {
     "name": "stdout",
     "output_type": "stream",
     "text": [
      "+-------------+--------------------+\n",
      "|         year|             media_1|\n",
      "+-------------+--------------------+\n",
      "|2016 [YR2016]|1.588138215480659...|\n",
      "|2014 [YR2014]|1.034427587329532...|\n",
      "|2017 [YR2017]| 2.23985861996269E12|\n",
      "|2015 [YR2015]|1.318244039159024...|\n",
      "+-------------+--------------------+\n",
      "\n"
     ]
    }
   ],
   "source": [
    "media_1 = i_desarrollo.select(\"gc_dod_tolt_cn\",\"year\").groupBy(\"year\").agg(f.avg(\"gc_dod_tolt_cn\").alias(\"media_1\"))\n",
    "media_1.show()"
   ]
  },
  {
   "cell_type": "code",
   "execution_count": 32,
   "metadata": {
    "collapsed": false
   },
   "outputs": [
    {
     "name": "stdout",
     "output_type": "stream",
     "text": [
      "+-------------+------------------+\n",
      "|         year|           media_2|\n",
      "+-------------+------------------+\n",
      "|2016 [YR2016]|58.796949624008356|\n",
      "|2014 [YR2014]|56.843914344384395|\n",
      "|2017 [YR2017]|   48.659564238322|\n",
      "|2015 [YR2015]| 58.36559834488036|\n",
      "+-------------+------------------+\n",
      "\n"
     ]
    }
   ],
   "source": [
    "\n",
    "media_2 = i_desarrollo.select(\"gc_dod_totl_gd_zs\",\"year\").groupBy(\"year\").agg(f.avg(\"gc_dod_totl_gd_zs\").alias(\"media_2\"))\n",
    "media_2.show()"
   ]
  },
  {
   "cell_type": "code",
   "execution_count": 35,
   "metadata": {
    "collapsed": false
   },
   "outputs": [
    {
     "name": "stdout",
     "output_type": "stream",
     "text": [
      "+-------------+------------------+\n",
      "|         year|           media_3|\n",
      "+-------------+------------------+\n",
      "|2016 [YR2016]| 16.14433333333333|\n",
      "|2014 [YR2014]|          17.58262|\n",
      "|2017 [YR2017]|            34.593|\n",
      "|2015 [YR2015]|16.798477272727276|\n",
      "+-------------+------------------+\n",
      "\n"
     ]
    }
   ],
   "source": [
    "media_3 = i_desarrollo.select(\"sp_dyn_cbrt_in\",\"year\").groupBy(\"year\").agg(f.avg(\"sp_dyn_cbrt_in\").alias(\"media_3\"))\n",
    "media_3.show()"
   ]
  },
  {
   "cell_type": "markdown",
   "metadata": {},
   "source": [
    "##### 8. Podrías decirme el total de deuda acumulada DT.AMT.MLAT.CD por los 10 países con un valor en media menor de SP.DYN.CBRT.IN"
   ]
  },
  {
   "cell_type": "markdown",
   "metadata": {},
   "source": [
    "Para esta pregunta, se realizan en primer lugar los totales de tasa de natalidad de todos los países del dataset. Luego, se hace lo mismo con los totales del indicador de deuda de DT.AMT.MLAT.CD. Una vez que tengo estos datos, se ordenan con el fin de que aparezcan los menores arriba, ya que se están buscando los 10 países con __menor__ valor en media de tasa de natalidad. "
   ]
  },
  {
   "cell_type": "code",
   "execution_count": 36,
   "metadata": {
    "collapsed": false
   },
   "outputs": [
    {
     "name": "stdout",
     "output_type": "stream",
     "text": [
      "+-------------------+------------------+\n",
      "|       country_name|  media_desarrollo|\n",
      "+-------------------+------------------+\n",
      "|        Philippines|            22.935|\n",
      "|              Tonga|25.362333333333336|\n",
      "|           Malaysia|17.017333333333333|\n",
      "|          Singapore| 9.633333333333333|\n",
      "|             Turkey|16.717333333333332|\n",
      "|             Malawi|            35.556|\n",
      "|             Jordan|            24.305|\n",
      "|              Palau|13.133333333333333|\n",
      "|          Sri Lanka|            16.729|\n",
      "|         San Marino|              8.05|\n",
      "|            Albania|12.178666666666667|\n",
      "|               Peru|18.564666666666668|\n",
      "|          St. Lucia|            12.502|\n",
      "|      United States|12.366666666666665|\n",
      "|            Belarus|12.466666666666667|\n",
      "|St. Kitts and Nevis|              12.6|\n",
      "|              Spain|               9.0|\n",
      "|           Barbados|            10.861|\n",
      "| Russian Federation|13.166666666666666|\n",
      "|            Ireland|              13.9|\n",
      "+-------------------+------------------+\n",
      "only showing top 20 rows\n",
      "\n"
     ]
    }
   ],
   "source": [
    "media_paises_desarrollo = i_desarrollo.groupBy(\"country_name\").agg(f.avg('sp_dyn_cbrt_in').alias(\"media_desarrollo\"))\n",
    "media_paises_desarrollo.show()"
   ]
  },
  {
   "cell_type": "code",
   "execution_count": 43,
   "metadata": {
    "collapsed": false
   },
   "outputs": [
    {
     "name": "stdout",
     "output_type": "stream",
     "text": [
      "+--------------------+--------------+\n",
      "|        country_name|   total_deuda|\n",
      "+--------------------+--------------+\n",
      "|          South Asia|7.8517399295E9|\n",
      "|                Chad|  9.57387095E7|\n",
      "|            Paraguay| 2.076620309E8|\n",
      "|    Congo, Dem. Rep.|  1.43105462E8|\n",
      "|             Senegal| 1.704379291E8|\n",
      "|          Cabo Verde|  3.99701249E7|\n",
      "|Least developed c...|4.0842755242E9|\n",
      "|      Macedonia, FYR| 1.859528672E8|\n",
      "|              Guyana|  3.46518065E7|\n",
      "|             Eritrea|  1.54824754E7|\n",
      "|         Philippines| 7.390564273E8|\n",
      "|            Djibouti|  3.42549092E7|\n",
      "|               Tonga|     2791253.2|\n",
      "|                Fiji|     9082442.6|\n",
      "|              Turkey| 2.932698678E9|\n",
      "|              Malawi|  3.56598314E7|\n",
      "|             Comoros|     2182053.1|\n",
      "|         Afghanistan|   3.9107845E7|\n",
      "|            Cambodia|  7.23070018E7|\n",
      "|              Jordan| 2.704987155E8|\n",
      "+--------------------+--------------+\n",
      "only showing top 20 rows\n",
      "\n"
     ]
    }
   ],
   "source": [
    "total_deuda_porPaises = i_deuda.groupBy(\"country_name\").agg(f.sum('dt_amt_mlat_cd').alias('total_deuda'))\n",
    "total_deuda_porPaises.show()"
   ]
  },
  {
   "cell_type": "code",
   "execution_count": 47,
   "metadata": {
    "collapsed": false
   },
   "outputs": [],
   "source": [
    "union1 = total_deuda_porPaises.join(media_paises_desarrollo, on=\"country_name\", how = \"inner\")"
   ]
  },
  {
   "cell_type": "markdown",
   "metadata": {},
   "source": [
    "Estos son los 10 países con menor media, ordenadas de menor a mayor, para poder comparar y su total de deuda."
   ]
  },
  {
   "cell_type": "code",
   "execution_count": 46,
   "metadata": {
    "collapsed": false
   },
   "outputs": [
    {
     "name": "stdout",
     "output_type": "stream",
     "text": [
      "+--------------------+--------------+------------------+\n",
      "|        country_name|   total_deuda|  media_desarrollo|\n",
      "+--------------------+--------------+------------------+\n",
      "|             Ukraine|1.0724728303E9|              10.6|\n",
      "|             Moldova| 1.358428655E8|10.604333333333335|\n",
      "|            Thailand|  3.90715715E7|           10.9175|\n",
      "|             Albania| 1.821976167E8|12.178666666666667|\n",
      "|             Belarus|  5.95438826E8|12.466666666666667|\n",
      "|           St. Lucia|  1.50192163E7|            12.502|\n",
      "|  Russian Federation|    1.416695E8|13.166666666666666|\n",
      "|             Georgia| 1.440624015E8|            14.056|\n",
      "|              Brazil|2.5143187416E9|14.467666666666666|\n",
      "|St. Vincent and t...|  2.16156007E7|            15.011|\n",
      "+--------------------+--------------+------------------+\n",
      "only showing top 10 rows\n",
      "\n"
     ]
    }
   ],
   "source": [
    "ordenar = union1.orderBy(\"media_desarrollo\", ascending = True)\n",
    "ordenar.show(10)"
   ]
  },
  {
   "cell_type": "markdown",
   "metadata": {},
   "source": [
    "##### 9. ¿Hay alguna relación entre los nacimientos y el indicador DT.AMT.DLXF.CD? ¿Cómo podrías demostrarlo?"
   ]
  },
  {
   "cell_type": "markdown",
   "metadata": {},
   "source": [
    "En primer lugar, se empieza obteniendo los totales de la tasa de natalidad y del indicador DT.AMT.DLXF.CD para poder compararlos. Estos se ordenan de mayor a menor, para obtener información acerca de los países con mayor deuda y los países con más nacimientos y comprobar si hay alguna relación."
   ]
  },
  {
   "cell_type": "code",
   "execution_count": 48,
   "metadata": {
    "collapsed": false
   },
   "outputs": [
    {
     "name": "stdout",
     "output_type": "stream",
     "text": [
      "+--------------------+----------------+\n",
      "|        country_name|  suma_indicador|\n",
      "+--------------------+----------------+\n",
      "|          South Asia|4.87562958982E10|\n",
      "|                Chad|    1.78106958E8|\n",
      "|            Paraguay|  1.5285085736E9|\n",
      "|    Congo, Dem. Rep.|   2.598365414E8|\n",
      "|             Senegal|    4.44722556E8|\n",
      "|          Cabo Verde|    6.77284459E7|\n",
      "|Least developed c...|2.51970292994E10|\n",
      "|      Macedonia, FYR|   8.758465385E8|\n",
      "|              Guyana|   1.082646655E8|\n",
      "|             Eritrea|    3.11100778E7|\n",
      "|         Philippines|  6.4791709177E9|\n",
      "|            Djibouti|    8.31851883E7|\n",
      "|               Tonga|    1.03699106E7|\n",
      "|                Fiji|    4.65325085E7|\n",
      "|              Turkey|5.15550310058E10|\n",
      "|              Malawi|    5.74223731E7|\n",
      "|             Comoros|       4792269.1|\n",
      "|         Afghanistan|   1.008471819E8|\n",
      "|            Cambodia|   7.759559813E8|\n",
      "|              Jordan|  1.9903434792E9|\n",
      "+--------------------+----------------+\n",
      "only showing top 20 rows\n",
      "\n"
     ]
    }
   ],
   "source": [
    "suma_indicador = i_deuda.groupBy(\"country_name\").agg(f.sum('dt_amt_dlxf_cd').alias('suma_indicador'))\n",
    "\n",
    "suma_indicador.show()"
   ]
  },
  {
   "cell_type": "markdown",
   "metadata": {},
   "source": [
    "Estos son los 10 países que aparecen con un valor más algo en el indicador."
   ]
  },
  {
   "cell_type": "code",
   "execution_count": 188,
   "metadata": {
    "collapsed": false
   },
   "outputs": [
    {
     "name": "stdout",
     "output_type": "stream",
     "text": [
      "+--------------------+----------------+\n",
      "|        country_name|  suma_indicador|\n",
      "+--------------------+----------------+\n",
      "|               China|9.62186208357E10|\n",
      "|              Brazil|9.00418403041E10|\n",
      "|  Russian Federation|6.65897618335E10|\n",
      "|              Turkey|5.15550310058E10|\n",
      "|          South Asia|4.87562958982E10|\n",
      "|               India|3.19235070008E10|\n",
      "|           Indonesia|3.09161126538E10|\n",
      "|          Kazakhstan|2.74820936864E10|\n",
      "|              Mexico| 2.5218503927E10|\n",
      "|Least developed c...|2.51970292994E10|\n",
      "+--------------------+----------------+\n",
      "only showing top 10 rows\n",
      "\n"
     ]
    }
   ],
   "source": [
    "suma_indicador = suma_indicador.orderBy(\"suma_indicador\", ascending = False)\n",
    "suma_indicador.show(10)"
   ]
  },
  {
   "cell_type": "code",
   "execution_count": 50,
   "metadata": {
    "collapsed": false
   },
   "outputs": [
    {
     "name": "stdout",
     "output_type": "stream",
     "text": [
      "+-------------------+------------------+\n",
      "|       country_name|  suma_nacimientos|\n",
      "+-------------------+------------------+\n",
      "|        Philippines|            22.935|\n",
      "|              Tonga|            76.087|\n",
      "|           Malaysia|            51.052|\n",
      "|          Singapore|              28.9|\n",
      "|             Turkey|            50.152|\n",
      "|             Malawi|           142.224|\n",
      "|             Jordan|             48.61|\n",
      "|              Palau|              39.4|\n",
      "|          Sri Lanka|            33.458|\n",
      "|         San Marino|              16.1|\n",
      "|            Albania|            36.536|\n",
      "|               Peru|            55.694|\n",
      "|          St. Lucia|            12.502|\n",
      "|      United States|37.099999999999994|\n",
      "|            Belarus|              37.4|\n",
      "|St. Kitts and Nevis|              12.6|\n",
      "|              Spain|              27.0|\n",
      "|           Barbados|            21.722|\n",
      "| Russian Federation|              39.5|\n",
      "|            Ireland|              41.7|\n",
      "+-------------------+------------------+\n",
      "only showing top 20 rows\n",
      "\n"
     ]
    }
   ],
   "source": [
    "suma_nacimientos = i_desarrollo.groupBy(\"country_name\").agg(f.sum('sp_dyn_cbrt_in').alias(\"suma_nacimientos\"))\n",
    "suma_nacimientos.show()"
   ]
  },
  {
   "cell_type": "markdown",
   "metadata": {},
   "source": [
    "Aquí se pueden observar los 10 países con mayor tasa de natalidad."
   ]
  },
  {
   "cell_type": "code",
   "execution_count": 51,
   "metadata": {
    "collapsed": false
   },
   "outputs": [
    {
     "name": "stdout",
     "output_type": "stream",
     "text": [
      "+--------------------+----------------+\n",
      "|        country_name|suma_nacimientos|\n",
      "+--------------------+----------------+\n",
      "|              Malawi|         142.224|\n",
      "|     Solomon Islands|         100.577|\n",
      "|     Kyrgyz Republic|            81.1|\n",
      "|            Botswana|          79.253|\n",
      "|           Guatemala|          76.886|\n",
      "|              Zambia|          76.595|\n",
      "|               Tonga|          76.087|\n",
      "|Micronesia, Fed. ...|          69.647|\n",
      "|          Kazakhstan|           68.33|\n",
      "|           Indonesia|          57.492|\n",
      "+--------------------+----------------+\n",
      "only showing top 10 rows\n",
      "\n"
     ]
    }
   ],
   "source": [
    "suma_nacimientos = suma_nacimientos.orderBy(\"suma_nacimientos\", ascending = False)\n",
    "suma_nacimientos.show(10)"
   ]
  },
  {
   "cell_type": "markdown",
   "metadata": {},
   "source": [
    "Una vez que se tiene la información anteriormente comentada, se juntan ambas columnas en una sola tabla para poder comparar mejor. No obstante, como se ha visto anteriormente, es imposible formar una tabla con ambos, tasa e indicador, de forma ordenada, de mayor a menor, ya que estos valores no coinciden. Esto muestra como existe poca relación entre ambos."
   ]
  },
  {
   "cell_type": "code",
   "execution_count": 52,
   "metadata": {
    "collapsed": true
   },
   "outputs": [],
   "source": [
    "union3 = suma_nacimientos.join(suma_indicador, on=\"country_name\", how = \"inner\")"
   ]
  },
  {
   "cell_type": "code",
   "execution_count": 53,
   "metadata": {
    "collapsed": false
   },
   "outputs": [
    {
     "name": "stdout",
     "output_type": "stream",
     "text": [
      "+----------------+----------------+----------------+\n",
      "|    country_name|suma_nacimientos|  suma_indicador|\n",
      "+----------------+----------------+----------------+\n",
      "|          Malawi|         142.224|    5.74223731E7|\n",
      "| Solomon Islands|         100.577|    3.07497039E7|\n",
      "| Kyrgyz Republic|            81.1|   8.164190451E8|\n",
      "|        Botswana|          79.253|    1.37995908E8|\n",
      "|       Guatemala|          76.886|  2.9119819878E9|\n",
      "|          Zambia|          76.595|  1.2176434719E9|\n",
      "|           Tonga|          76.087|    1.03699106E7|\n",
      "|      Kazakhstan|           68.33|2.74820936864E10|\n",
      "|       Indonesia|          57.492|3.09161126538E10|\n",
      "|Papua New Guinea|          56.337|  2.8421938425E9|\n",
      "+----------------+----------------+----------------+\n",
      "only showing top 10 rows\n",
      "\n"
     ]
    }
   ],
   "source": [
    "union3.show(10)"
   ]
  },
  {
   "cell_type": "markdown",
   "metadata": {},
   "source": [
    "No obstante, pese a que los datos muestran que hay poca relación, sería conveniente estimar la correlación entre ambas columnas, con el fin de averiguar si existe correlación entre indicador y tasa de nacimientos. "
   ]
  },
  {
   "cell_type": "code",
   "execution_count": 54,
   "metadata": {
    "collapsed": false
   },
   "outputs": [],
   "source": [
    "# Para hacer la correlación es necesario pasarlo previamente a Pandas\n",
    "to_pandas = union3.toPandas()\n"
   ]
  },
  {
   "cell_type": "code",
   "execution_count": 170,
   "metadata": {
    "collapsed": false
   },
   "outputs": [
    {
     "data": {
      "text/plain": [
       "-0.10390308499004132"
      ]
     },
     "execution_count": 170,
     "metadata": {},
     "output_type": "execute_result"
    }
   ],
   "source": [
    "correlacion = union3.stat.corr(\"suma_indicador\",\"suma_nacimientos\")\n",
    "correlacion"
   ]
  },
  {
   "cell_type": "markdown",
   "metadata": {
    "collapsed": true
   },
   "source": [
    "El resultado obtenido ha sido de correlacción negativa, -0.104, por lo que se podría concluir que no existe relación alguna."
   ]
  }
 ],
 "metadata": {
  "kernelspec": {
   "display_name": "Python 3",
   "language": "python",
   "name": "python3"
  },
  "language_info": {
   "codemirror_mode": {
    "name": "ipython",
    "version": 3
   },
   "file_extension": ".py",
   "mimetype": "text/x-python",
   "name": "python",
   "nbconvert_exporter": "python",
   "pygments_lexer": "ipython3",
   "version": "3.5.2"
  }
 },
 "nbformat": 4,
 "nbformat_minor": 2
}
